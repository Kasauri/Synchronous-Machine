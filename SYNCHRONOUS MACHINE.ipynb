{
 "cells": [
  {
   "cell_type": "markdown",
   "id": "1e01e31d",
   "metadata": {},
   "source": [
    "# BACKGROUND OF PROBLEM"
   ]
  },
  {
   "cell_type": "markdown",
   "id": "fe416ef0",
   "metadata": {},
   "source": [
    "Synchronous motors (SMs) are AC motors with constant speed.A SM dataset is obtained from a real experimental set. The task is to create the strong models to estimate the excitation current of SM"
   ]
  },
  {
   "cell_type": "markdown",
   "id": "10d0f453",
   "metadata": {},
   "source": [
    "Five parameters are used to represent and model the SM a: the load current ( Iy), power factor (pf), power factor error (e), variation in excitation current ( dif ), and excitation current (If ).< If > is the output and < Iy , pf, e, dif > are the input parameters of the SM in the power factor correction task."
   ]
  },
  {
   "cell_type": "markdown",
   "id": "b3553d21",
   "metadata": {},
   "source": [
    " The linear form can be represented as Elinear = w1∗ x1+w2∗x2+w3∗x3+w4∗x4+w5 and transformed  as \n",
    " \n",
    " Elinear(SM) = If predicted = w1∗ Iy+w2∗PF+w3∗e+w4∗dIf+w"
   ]
  },
  {
   "cell_type": "markdown",
   "id": "f2750a77",
   "metadata": {},
   "source": [
    "A SM dataset is obtained from a real experimental set. This dataset was further splitted to a test size of 30% and training of set of 70% for the training process randomly . The task is to create the best linear or quadratic form to estimate the excitation current of SM. The estimated excitation current is compared with the real value in the test dataset of SM. Three different regressors model was used for the machine learning process and a comparative study of the r2 score was carried out to determine the best model that could be used to estimate the EC. The accuracy of the developed method is tested using the linear SM form swiftly and simply. This feature proves the measurability, testability, and verifiability of the developed method. The excitation currents can be estimated for each sample in the set of test data using the design ratios in the set of test data (parameter rates related to each test sample)"
   ]
  },
  {
   "cell_type": "markdown",
   "id": "e7340d96",
   "metadata": {},
   "source": [
    "# IMPORTING NECESSARY LIBRARIES"
   ]
  },
  {
   "cell_type": "code",
   "execution_count": 1,
   "id": "c97e4ef6",
   "metadata": {},
   "outputs": [],
   "source": [
    "import numpy as np\n",
    "import pandas as pd\n",
    "import seaborn as sns\n",
    "import matplotlib.pyplot as plt\n",
    "from pandas_profiling import ProfileReport\n",
    "%matplotlib inline"
   ]
  },
  {
   "cell_type": "code",
   "execution_count": 2,
   "id": "fb904809",
   "metadata": {},
   "outputs": [
    {
     "data": {
      "text/html": [
       "<div>\n",
       "<style scoped>\n",
       "    .dataframe tbody tr th:only-of-type {\n",
       "        vertical-align: middle;\n",
       "    }\n",
       "\n",
       "    .dataframe tbody tr th {\n",
       "        vertical-align: top;\n",
       "    }\n",
       "\n",
       "    .dataframe thead th {\n",
       "        text-align: right;\n",
       "    }\n",
       "</style>\n",
       "<table border=\"1\" class=\"dataframe\">\n",
       "  <thead>\n",
       "    <tr style=\"text-align: right;\">\n",
       "      <th></th>\n",
       "      <th>Iy</th>\n",
       "      <th>PF</th>\n",
       "      <th>e</th>\n",
       "      <th>dIf</th>\n",
       "      <th>If</th>\n",
       "    </tr>\n",
       "  </thead>\n",
       "  <tbody>\n",
       "    <tr>\n",
       "      <th>0</th>\n",
       "      <td>3</td>\n",
       "      <td>0,66</td>\n",
       "      <td>0,34</td>\n",
       "      <td>0,383</td>\n",
       "      <td>1,563</td>\n",
       "    </tr>\n",
       "    <tr>\n",
       "      <th>1</th>\n",
       "      <td>3</td>\n",
       "      <td>0,68</td>\n",
       "      <td>0,32</td>\n",
       "      <td>0,372</td>\n",
       "      <td>1,552</td>\n",
       "    </tr>\n",
       "    <tr>\n",
       "      <th>2</th>\n",
       "      <td>3</td>\n",
       "      <td>0,7</td>\n",
       "      <td>0,3</td>\n",
       "      <td>0,36</td>\n",
       "      <td>1,54</td>\n",
       "    </tr>\n",
       "    <tr>\n",
       "      <th>3</th>\n",
       "      <td>3</td>\n",
       "      <td>0,72</td>\n",
       "      <td>0,28</td>\n",
       "      <td>0,338</td>\n",
       "      <td>1,518</td>\n",
       "    </tr>\n",
       "    <tr>\n",
       "      <th>4</th>\n",
       "      <td>3</td>\n",
       "      <td>0,74</td>\n",
       "      <td>0,26</td>\n",
       "      <td>0,317</td>\n",
       "      <td>1,497</td>\n",
       "    </tr>\n",
       "    <tr>\n",
       "      <th>...</th>\n",
       "      <td>...</td>\n",
       "      <td>...</td>\n",
       "      <td>...</td>\n",
       "      <td>...</td>\n",
       "      <td>...</td>\n",
       "    </tr>\n",
       "    <tr>\n",
       "      <th>552</th>\n",
       "      <td>6</td>\n",
       "      <td>0,91</td>\n",
       "      <td>0,09</td>\n",
       "      <td>0,142</td>\n",
       "      <td>1,322</td>\n",
       "    </tr>\n",
       "    <tr>\n",
       "      <th>553</th>\n",
       "      <td>6</td>\n",
       "      <td>0,93</td>\n",
       "      <td>0,07</td>\n",
       "      <td>0,151</td>\n",
       "      <td>1,331</td>\n",
       "    </tr>\n",
       "    <tr>\n",
       "      <th>554</th>\n",
       "      <td>6</td>\n",
       "      <td>0,95</td>\n",
       "      <td>0,05</td>\n",
       "      <td>0,16</td>\n",
       "      <td>1,34</td>\n",
       "    </tr>\n",
       "    <tr>\n",
       "      <th>555</th>\n",
       "      <td>6</td>\n",
       "      <td>0,97</td>\n",
       "      <td>0,03</td>\n",
       "      <td>0,16</td>\n",
       "      <td>1,34</td>\n",
       "    </tr>\n",
       "    <tr>\n",
       "      <th>556</th>\n",
       "      <td>6</td>\n",
       "      <td>0,99</td>\n",
       "      <td>0,01</td>\n",
       "      <td>0,16</td>\n",
       "      <td>1,34</td>\n",
       "    </tr>\n",
       "  </tbody>\n",
       "</table>\n",
       "<p>557 rows × 5 columns</p>\n",
       "</div>"
      ],
      "text/plain": [
       "    Iy    PF     e    dIf     If\n",
       "0    3  0,66  0,34  0,383  1,563\n",
       "1    3  0,68  0,32  0,372  1,552\n",
       "2    3   0,7   0,3   0,36   1,54\n",
       "3    3  0,72  0,28  0,338  1,518\n",
       "4    3  0,74  0,26  0,317  1,497\n",
       "..  ..   ...   ...    ...    ...\n",
       "552  6  0,91  0,09  0,142  1,322\n",
       "553  6  0,93  0,07  0,151  1,331\n",
       "554  6  0,95  0,05   0,16   1,34\n",
       "555  6  0,97  0,03   0,16   1,34\n",
       "556  6  0,99  0,01   0,16   1,34\n",
       "\n",
       "[557 rows x 5 columns]"
      ]
     },
     "execution_count": 2,
     "metadata": {},
     "output_type": "execute_result"
    }
   ],
   "source": [
    "df = pd.read_csv('synchronous machine (3).csv',  sep = ';')\n",
    "df #the data set"
   ]
  },
  {
   "cell_type": "markdown",
   "id": "506c27a1",
   "metadata": {},
   "source": [
    "# DATA CLEANING"
   ]
  },
  {
   "cell_type": "code",
   "execution_count": 3,
   "id": "0b0dfe74",
   "metadata": {},
   "outputs": [],
   "source": [
    "df.rename(\n",
    "    columns=({ 'If,,,,': 'If'}), \n",
    "    inplace=True,\n",
    ")   #Renaming the columns"
   ]
  },
  {
   "cell_type": "code",
   "execution_count": 4,
   "id": "c81e2a19",
   "metadata": {},
   "outputs": [
    {
     "data": {
      "text/html": [
       "<div>\n",
       "<style scoped>\n",
       "    .dataframe tbody tr th:only-of-type {\n",
       "        vertical-align: middle;\n",
       "    }\n",
       "\n",
       "    .dataframe tbody tr th {\n",
       "        vertical-align: top;\n",
       "    }\n",
       "\n",
       "    .dataframe thead th {\n",
       "        text-align: right;\n",
       "    }\n",
       "</style>\n",
       "<table border=\"1\" class=\"dataframe\">\n",
       "  <thead>\n",
       "    <tr style=\"text-align: right;\">\n",
       "      <th></th>\n",
       "      <th>Iy</th>\n",
       "      <th>PF</th>\n",
       "      <th>e</th>\n",
       "      <th>dIf</th>\n",
       "      <th>If</th>\n",
       "    </tr>\n",
       "  </thead>\n",
       "  <tbody>\n",
       "    <tr>\n",
       "      <th>0</th>\n",
       "      <td>3</td>\n",
       "      <td>0,66</td>\n",
       "      <td>0,34</td>\n",
       "      <td>0,383</td>\n",
       "      <td>1,563</td>\n",
       "    </tr>\n",
       "    <tr>\n",
       "      <th>1</th>\n",
       "      <td>3</td>\n",
       "      <td>0,68</td>\n",
       "      <td>0,32</td>\n",
       "      <td>0,372</td>\n",
       "      <td>1,552</td>\n",
       "    </tr>\n",
       "    <tr>\n",
       "      <th>2</th>\n",
       "      <td>3</td>\n",
       "      <td>0,7</td>\n",
       "      <td>0,3</td>\n",
       "      <td>0,36</td>\n",
       "      <td>1,54</td>\n",
       "    </tr>\n",
       "    <tr>\n",
       "      <th>3</th>\n",
       "      <td>3</td>\n",
       "      <td>0,72</td>\n",
       "      <td>0,28</td>\n",
       "      <td>0,338</td>\n",
       "      <td>1,518</td>\n",
       "    </tr>\n",
       "    <tr>\n",
       "      <th>4</th>\n",
       "      <td>3</td>\n",
       "      <td>0,74</td>\n",
       "      <td>0,26</td>\n",
       "      <td>0,317</td>\n",
       "      <td>1,497</td>\n",
       "    </tr>\n",
       "    <tr>\n",
       "      <th>5</th>\n",
       "      <td>3</td>\n",
       "      <td>0,76</td>\n",
       "      <td>0,24</td>\n",
       "      <td>0,301</td>\n",
       "      <td>1,481</td>\n",
       "    </tr>\n",
       "    <tr>\n",
       "      <th>6</th>\n",
       "      <td>3</td>\n",
       "      <td>0,78</td>\n",
       "      <td>0,22</td>\n",
       "      <td>0,29</td>\n",
       "      <td>1,47</td>\n",
       "    </tr>\n",
       "    <tr>\n",
       "      <th>7</th>\n",
       "      <td>3</td>\n",
       "      <td>0,8</td>\n",
       "      <td>0,2</td>\n",
       "      <td>0,28</td>\n",
       "      <td>1,46</td>\n",
       "    </tr>\n",
       "    <tr>\n",
       "      <th>8</th>\n",
       "      <td>3</td>\n",
       "      <td>0,82</td>\n",
       "      <td>0,18</td>\n",
       "      <td>0,25</td>\n",
       "      <td>1,43</td>\n",
       "    </tr>\n",
       "    <tr>\n",
       "      <th>9</th>\n",
       "      <td>3</td>\n",
       "      <td>0,84</td>\n",
       "      <td>0,16</td>\n",
       "      <td>0,221</td>\n",
       "      <td>1,401</td>\n",
       "    </tr>\n",
       "  </tbody>\n",
       "</table>\n",
       "</div>"
      ],
      "text/plain": [
       "  Iy    PF     e    dIf     If\n",
       "0  3  0,66  0,34  0,383  1,563\n",
       "1  3  0,68  0,32  0,372  1,552\n",
       "2  3   0,7   0,3   0,36   1,54\n",
       "3  3  0,72  0,28  0,338  1,518\n",
       "4  3  0,74  0,26  0,317  1,497\n",
       "5  3  0,76  0,24  0,301  1,481\n",
       "6  3  0,78  0,22   0,29   1,47\n",
       "7  3   0,8   0,2   0,28   1,46\n",
       "8  3  0,82  0,18   0,25   1,43\n",
       "9  3  0,84  0,16  0,221  1,401"
      ]
     },
     "execution_count": 4,
     "metadata": {},
     "output_type": "execute_result"
    }
   ],
   "source": [
    "df.head(10)"
   ]
  },
  {
   "cell_type": "markdown",
   "id": "aab98420",
   "metadata": {},
   "source": [
    "Iy = load current PF = Power factor e = power factor error dIf = changing of Excitation current of Synchronous motors (SMs) If = Excitation current of SM"
   ]
  },
  {
   "cell_type": "code",
   "execution_count": 5,
   "id": "8b604942",
   "metadata": {},
   "outputs": [
    {
     "data": {
      "text/html": [
       "<div>\n",
       "<style scoped>\n",
       "    .dataframe tbody tr th:only-of-type {\n",
       "        vertical-align: middle;\n",
       "    }\n",
       "\n",
       "    .dataframe tbody tr th {\n",
       "        vertical-align: top;\n",
       "    }\n",
       "\n",
       "    .dataframe thead th {\n",
       "        text-align: right;\n",
       "    }\n",
       "</style>\n",
       "<table border=\"1\" class=\"dataframe\">\n",
       "  <thead>\n",
       "    <tr style=\"text-align: right;\">\n",
       "      <th></th>\n",
       "      <th>Iy</th>\n",
       "      <th>PF</th>\n",
       "      <th>e</th>\n",
       "      <th>dIf</th>\n",
       "      <th>If</th>\n",
       "    </tr>\n",
       "  </thead>\n",
       "  <tbody>\n",
       "    <tr>\n",
       "      <th>0</th>\n",
       "      <td>3</td>\n",
       "      <td>0.66</td>\n",
       "      <td>0.34</td>\n",
       "      <td>0.383</td>\n",
       "      <td>1.563</td>\n",
       "    </tr>\n",
       "    <tr>\n",
       "      <th>1</th>\n",
       "      <td>3</td>\n",
       "      <td>0.68</td>\n",
       "      <td>0.32</td>\n",
       "      <td>0.372</td>\n",
       "      <td>1.552</td>\n",
       "    </tr>\n",
       "    <tr>\n",
       "      <th>2</th>\n",
       "      <td>3</td>\n",
       "      <td>0.7</td>\n",
       "      <td>0.3</td>\n",
       "      <td>0.36</td>\n",
       "      <td>1.54</td>\n",
       "    </tr>\n",
       "    <tr>\n",
       "      <th>3</th>\n",
       "      <td>3</td>\n",
       "      <td>0.72</td>\n",
       "      <td>0.28</td>\n",
       "      <td>0.338</td>\n",
       "      <td>1.518</td>\n",
       "    </tr>\n",
       "    <tr>\n",
       "      <th>4</th>\n",
       "      <td>3</td>\n",
       "      <td>0.74</td>\n",
       "      <td>0.26</td>\n",
       "      <td>0.317</td>\n",
       "      <td>1.497</td>\n",
       "    </tr>\n",
       "  </tbody>\n",
       "</table>\n",
       "</div>"
      ],
      "text/plain": [
       "  Iy    PF     e    dIf     If\n",
       "0  3  0.66  0.34  0.383  1.563\n",
       "1  3  0.68  0.32  0.372  1.552\n",
       "2  3   0.7   0.3   0.36   1.54\n",
       "3  3  0.72  0.28  0.338  1.518\n",
       "4  3  0.74  0.26  0.317  1.497"
      ]
     },
     "execution_count": 5,
     "metadata": {},
     "output_type": "execute_result"
    }
   ],
   "source": [
    "df = df.replace(',', '.' , regex=True)\n",
    "df.head(5) #correcting the decimal point error on dataset"
   ]
  },
  {
   "cell_type": "code",
   "execution_count": 6,
   "id": "46343049",
   "metadata": {},
   "outputs": [
    {
     "data": {
      "text/plain": [
       "array([dtype('O')], dtype=object)"
      ]
     },
     "execution_count": 6,
     "metadata": {},
     "output_type": "execute_result"
    }
   ],
   "source": [
    "df.dtypes.unique() #seeing the data types"
   ]
  },
  {
   "cell_type": "code",
   "execution_count": 7,
   "id": "314668f8",
   "metadata": {},
   "outputs": [
    {
     "name": "stdout",
     "output_type": "stream",
     "text": [
      "<class 'pandas.core.frame.DataFrame'>\n",
      "RangeIndex: 557 entries, 0 to 556\n",
      "Data columns (total 5 columns):\n",
      " #   Column  Non-Null Count  Dtype \n",
      "---  ------  --------------  ----- \n",
      " 0   Iy      557 non-null    object\n",
      " 1   PF      557 non-null    object\n",
      " 2   e       557 non-null    object\n",
      " 3   dIf     557 non-null    object\n",
      " 4   If      557 non-null    object\n",
      "dtypes: object(5)\n",
      "memory usage: 21.9+ KB\n"
     ]
    }
   ],
   "source": [
    "df.info()"
   ]
  },
  {
   "cell_type": "code",
   "execution_count": 8,
   "id": "79140946",
   "metadata": {},
   "outputs": [],
   "source": [
    "df = df.apply(pd.to_numeric, errors='coerce') #changing the data type to numerical"
   ]
  },
  {
   "cell_type": "code",
   "execution_count": 9,
   "id": "671d45b4",
   "metadata": {},
   "outputs": [
    {
     "data": {
      "text/plain": [
       "array([dtype('float64')], dtype=object)"
      ]
     },
     "execution_count": 9,
     "metadata": {},
     "output_type": "execute_result"
    }
   ],
   "source": [
    "df.dtypes.unique()"
   ]
  },
  {
   "cell_type": "code",
   "execution_count": 10,
   "id": "2fdb6cb2",
   "metadata": {},
   "outputs": [
    {
     "data": {
      "text/html": [
       "<div>\n",
       "<style scoped>\n",
       "    .dataframe tbody tr th:only-of-type {\n",
       "        vertical-align: middle;\n",
       "    }\n",
       "\n",
       "    .dataframe tbody tr th {\n",
       "        vertical-align: top;\n",
       "    }\n",
       "\n",
       "    .dataframe thead th {\n",
       "        text-align: right;\n",
       "    }\n",
       "</style>\n",
       "<table border=\"1\" class=\"dataframe\">\n",
       "  <thead>\n",
       "    <tr style=\"text-align: right;\">\n",
       "      <th></th>\n",
       "      <th>Iy</th>\n",
       "      <th>PF</th>\n",
       "      <th>e</th>\n",
       "      <th>dIf</th>\n",
       "      <th>If</th>\n",
       "    </tr>\n",
       "  </thead>\n",
       "  <tbody>\n",
       "    <tr>\n",
       "      <th>count</th>\n",
       "      <td>557.000000</td>\n",
       "      <td>557.000000</td>\n",
       "      <td>557.000000</td>\n",
       "      <td>557.000000</td>\n",
       "      <td>557.000000</td>\n",
       "    </tr>\n",
       "    <tr>\n",
       "      <th>mean</th>\n",
       "      <td>4.499820</td>\n",
       "      <td>0.825296</td>\n",
       "      <td>0.174704</td>\n",
       "      <td>0.350659</td>\n",
       "      <td>1.530659</td>\n",
       "    </tr>\n",
       "    <tr>\n",
       "      <th>std</th>\n",
       "      <td>0.896024</td>\n",
       "      <td>0.103925</td>\n",
       "      <td>0.103925</td>\n",
       "      <td>0.180566</td>\n",
       "      <td>0.180566</td>\n",
       "    </tr>\n",
       "    <tr>\n",
       "      <th>min</th>\n",
       "      <td>3.000000</td>\n",
       "      <td>0.650000</td>\n",
       "      <td>0.000000</td>\n",
       "      <td>0.037000</td>\n",
       "      <td>1.217000</td>\n",
       "    </tr>\n",
       "    <tr>\n",
       "      <th>25%</th>\n",
       "      <td>3.700000</td>\n",
       "      <td>0.740000</td>\n",
       "      <td>0.080000</td>\n",
       "      <td>0.189000</td>\n",
       "      <td>1.369000</td>\n",
       "    </tr>\n",
       "    <tr>\n",
       "      <th>50%</th>\n",
       "      <td>4.500000</td>\n",
       "      <td>0.820000</td>\n",
       "      <td>0.180000</td>\n",
       "      <td>0.345000</td>\n",
       "      <td>1.525000</td>\n",
       "    </tr>\n",
       "    <tr>\n",
       "      <th>75%</th>\n",
       "      <td>5.300000</td>\n",
       "      <td>0.920000</td>\n",
       "      <td>0.260000</td>\n",
       "      <td>0.486000</td>\n",
       "      <td>1.666000</td>\n",
       "    </tr>\n",
       "    <tr>\n",
       "      <th>max</th>\n",
       "      <td>6.000000</td>\n",
       "      <td>1.000000</td>\n",
       "      <td>0.350000</td>\n",
       "      <td>0.769000</td>\n",
       "      <td>1.949000</td>\n",
       "    </tr>\n",
       "  </tbody>\n",
       "</table>\n",
       "</div>"
      ],
      "text/plain": [
       "               Iy          PF           e         dIf          If\n",
       "count  557.000000  557.000000  557.000000  557.000000  557.000000\n",
       "mean     4.499820    0.825296    0.174704    0.350659    1.530659\n",
       "std      0.896024    0.103925    0.103925    0.180566    0.180566\n",
       "min      3.000000    0.650000    0.000000    0.037000    1.217000\n",
       "25%      3.700000    0.740000    0.080000    0.189000    1.369000\n",
       "50%      4.500000    0.820000    0.180000    0.345000    1.525000\n",
       "75%      5.300000    0.920000    0.260000    0.486000    1.666000\n",
       "max      6.000000    1.000000    0.350000    0.769000    1.949000"
      ]
     },
     "execution_count": 10,
     "metadata": {},
     "output_type": "execute_result"
    }
   ],
   "source": [
    "df.describe()"
   ]
  },
  {
   "cell_type": "markdown",
   "id": "00056a51",
   "metadata": {},
   "source": [
    "checking the shape of the dataset"
   ]
  },
  {
   "cell_type": "code",
   "execution_count": 11,
   "id": "75a2510b",
   "metadata": {},
   "outputs": [
    {
     "data": {
      "text/plain": [
       "(557, 5)"
      ]
     },
     "execution_count": 11,
     "metadata": {},
     "output_type": "execute_result"
    }
   ],
   "source": [
    "df.shape"
   ]
  },
  {
   "cell_type": "markdown",
   "id": "a3a9b031",
   "metadata": {},
   "source": [
    "checking for NaN"
   ]
  },
  {
   "cell_type": "code",
   "execution_count": 12,
   "id": "740df208",
   "metadata": {},
   "outputs": [
    {
     "data": {
      "text/plain": [
       "Iy     0\n",
       "PF     0\n",
       "e      0\n",
       "dIf    0\n",
       "If     0\n",
       "dtype: int64"
      ]
     },
     "execution_count": 12,
     "metadata": {},
     "output_type": "execute_result"
    }
   ],
   "source": [
    "null = df.isnull().sum()\n",
    "null"
   ]
  },
  {
   "cell_type": "markdown",
   "id": "af5c6b12",
   "metadata": {},
   "source": [
    "There is no NaN values"
   ]
  },
  {
   "cell_type": "code",
   "execution_count": 13,
   "id": "aafb8efc",
   "metadata": {},
   "outputs": [
    {
     "data": {
      "text/html": [
       "<div>\n",
       "<style scoped>\n",
       "    .dataframe tbody tr th:only-of-type {\n",
       "        vertical-align: middle;\n",
       "    }\n",
       "\n",
       "    .dataframe tbody tr th {\n",
       "        vertical-align: top;\n",
       "    }\n",
       "\n",
       "    .dataframe thead th {\n",
       "        text-align: right;\n",
       "    }\n",
       "</style>\n",
       "<table border=\"1\" class=\"dataframe\">\n",
       "  <thead>\n",
       "    <tr style=\"text-align: right;\">\n",
       "      <th></th>\n",
       "      <th>Iy</th>\n",
       "      <th>PF</th>\n",
       "      <th>e</th>\n",
       "      <th>dIf</th>\n",
       "      <th>If</th>\n",
       "    </tr>\n",
       "  </thead>\n",
       "  <tbody>\n",
       "    <tr>\n",
       "      <th>0</th>\n",
       "      <td>3.0</td>\n",
       "      <td>0.66</td>\n",
       "      <td>0.34</td>\n",
       "      <td>0.383</td>\n",
       "      <td>1.563</td>\n",
       "    </tr>\n",
       "    <tr>\n",
       "      <th>1</th>\n",
       "      <td>3.0</td>\n",
       "      <td>0.68</td>\n",
       "      <td>0.32</td>\n",
       "      <td>0.372</td>\n",
       "      <td>1.552</td>\n",
       "    </tr>\n",
       "    <tr>\n",
       "      <th>2</th>\n",
       "      <td>3.0</td>\n",
       "      <td>0.70</td>\n",
       "      <td>0.30</td>\n",
       "      <td>0.360</td>\n",
       "      <td>1.540</td>\n",
       "    </tr>\n",
       "    <tr>\n",
       "      <th>3</th>\n",
       "      <td>3.0</td>\n",
       "      <td>0.72</td>\n",
       "      <td>0.28</td>\n",
       "      <td>0.338</td>\n",
       "      <td>1.518</td>\n",
       "    </tr>\n",
       "    <tr>\n",
       "      <th>4</th>\n",
       "      <td>3.0</td>\n",
       "      <td>0.74</td>\n",
       "      <td>0.26</td>\n",
       "      <td>0.317</td>\n",
       "      <td>1.497</td>\n",
       "    </tr>\n",
       "    <tr>\n",
       "      <th>...</th>\n",
       "      <td>...</td>\n",
       "      <td>...</td>\n",
       "      <td>...</td>\n",
       "      <td>...</td>\n",
       "      <td>...</td>\n",
       "    </tr>\n",
       "    <tr>\n",
       "      <th>552</th>\n",
       "      <td>6.0</td>\n",
       "      <td>0.91</td>\n",
       "      <td>0.09</td>\n",
       "      <td>0.142</td>\n",
       "      <td>1.322</td>\n",
       "    </tr>\n",
       "    <tr>\n",
       "      <th>553</th>\n",
       "      <td>6.0</td>\n",
       "      <td>0.93</td>\n",
       "      <td>0.07</td>\n",
       "      <td>0.151</td>\n",
       "      <td>1.331</td>\n",
       "    </tr>\n",
       "    <tr>\n",
       "      <th>554</th>\n",
       "      <td>6.0</td>\n",
       "      <td>0.95</td>\n",
       "      <td>0.05</td>\n",
       "      <td>0.160</td>\n",
       "      <td>1.340</td>\n",
       "    </tr>\n",
       "    <tr>\n",
       "      <th>555</th>\n",
       "      <td>6.0</td>\n",
       "      <td>0.97</td>\n",
       "      <td>0.03</td>\n",
       "      <td>0.160</td>\n",
       "      <td>1.340</td>\n",
       "    </tr>\n",
       "    <tr>\n",
       "      <th>556</th>\n",
       "      <td>6.0</td>\n",
       "      <td>0.99</td>\n",
       "      <td>0.01</td>\n",
       "      <td>0.160</td>\n",
       "      <td>1.340</td>\n",
       "    </tr>\n",
       "  </tbody>\n",
       "</table>\n",
       "<p>557 rows × 5 columns</p>\n",
       "</div>"
      ],
      "text/plain": [
       "      Iy    PF     e    dIf     If\n",
       "0    3.0  0.66  0.34  0.383  1.563\n",
       "1    3.0  0.68  0.32  0.372  1.552\n",
       "2    3.0  0.70  0.30  0.360  1.540\n",
       "3    3.0  0.72  0.28  0.338  1.518\n",
       "4    3.0  0.74  0.26  0.317  1.497\n",
       "..   ...   ...   ...    ...    ...\n",
       "552  6.0  0.91  0.09  0.142  1.322\n",
       "553  6.0  0.93  0.07  0.151  1.331\n",
       "554  6.0  0.95  0.05  0.160  1.340\n",
       "555  6.0  0.97  0.03  0.160  1.340\n",
       "556  6.0  0.99  0.01  0.160  1.340\n",
       "\n",
       "[557 rows x 5 columns]"
      ]
     },
     "execution_count": 13,
     "metadata": {},
     "output_type": "execute_result"
    }
   ],
   "source": [
    "df"
   ]
  },
  {
   "cell_type": "code",
   "execution_count": 14,
   "id": "92c5f0a0",
   "metadata": {},
   "outputs": [
    {
     "data": {
      "text/plain": [
       "Iy     0\n",
       "PF     0\n",
       "e      0\n",
       "dIf    0\n",
       "If     0\n",
       "dtype: int64"
      ]
     },
     "execution_count": 14,
     "metadata": {},
     "output_type": "execute_result"
    }
   ],
   "source": [
    "# Now lets check for NaN \n",
    "df.isnull().sum()"
   ]
  },
  {
   "cell_type": "markdown",
   "id": "b2f92fa6",
   "metadata": {},
   "source": [
    "No more NaN values in our data set"
   ]
  },
  {
   "cell_type": "code",
   "execution_count": 15,
   "id": "3355a363",
   "metadata": {},
   "outputs": [
    {
     "data": {
      "text/html": [
       "<div>\n",
       "<style scoped>\n",
       "    .dataframe tbody tr th:only-of-type {\n",
       "        vertical-align: middle;\n",
       "    }\n",
       "\n",
       "    .dataframe tbody tr th {\n",
       "        vertical-align: top;\n",
       "    }\n",
       "\n",
       "    .dataframe thead th {\n",
       "        text-align: right;\n",
       "    }\n",
       "</style>\n",
       "<table border=\"1\" class=\"dataframe\">\n",
       "  <thead>\n",
       "    <tr style=\"text-align: right;\">\n",
       "      <th></th>\n",
       "      <th>count</th>\n",
       "      <th>mean</th>\n",
       "      <th>std</th>\n",
       "      <th>min</th>\n",
       "      <th>25%</th>\n",
       "      <th>50%</th>\n",
       "      <th>75%</th>\n",
       "      <th>max</th>\n",
       "    </tr>\n",
       "  </thead>\n",
       "  <tbody>\n",
       "    <tr>\n",
       "      <th>Iy</th>\n",
       "      <td>557.0</td>\n",
       "      <td>4.499820</td>\n",
       "      <td>0.896024</td>\n",
       "      <td>3.000</td>\n",
       "      <td>3.700</td>\n",
       "      <td>4.500</td>\n",
       "      <td>5.300</td>\n",
       "      <td>6.000</td>\n",
       "    </tr>\n",
       "    <tr>\n",
       "      <th>PF</th>\n",
       "      <td>557.0</td>\n",
       "      <td>0.825296</td>\n",
       "      <td>0.103925</td>\n",
       "      <td>0.650</td>\n",
       "      <td>0.740</td>\n",
       "      <td>0.820</td>\n",
       "      <td>0.920</td>\n",
       "      <td>1.000</td>\n",
       "    </tr>\n",
       "    <tr>\n",
       "      <th>e</th>\n",
       "      <td>557.0</td>\n",
       "      <td>0.174704</td>\n",
       "      <td>0.103925</td>\n",
       "      <td>0.000</td>\n",
       "      <td>0.080</td>\n",
       "      <td>0.180</td>\n",
       "      <td>0.260</td>\n",
       "      <td>0.350</td>\n",
       "    </tr>\n",
       "    <tr>\n",
       "      <th>dIf</th>\n",
       "      <td>557.0</td>\n",
       "      <td>0.350659</td>\n",
       "      <td>0.180566</td>\n",
       "      <td>0.037</td>\n",
       "      <td>0.189</td>\n",
       "      <td>0.345</td>\n",
       "      <td>0.486</td>\n",
       "      <td>0.769</td>\n",
       "    </tr>\n",
       "    <tr>\n",
       "      <th>If</th>\n",
       "      <td>557.0</td>\n",
       "      <td>1.530659</td>\n",
       "      <td>0.180566</td>\n",
       "      <td>1.217</td>\n",
       "      <td>1.369</td>\n",
       "      <td>1.525</td>\n",
       "      <td>1.666</td>\n",
       "      <td>1.949</td>\n",
       "    </tr>\n",
       "  </tbody>\n",
       "</table>\n",
       "</div>"
      ],
      "text/plain": [
       "     count      mean       std    min    25%    50%    75%    max\n",
       "Iy   557.0  4.499820  0.896024  3.000  3.700  4.500  5.300  6.000\n",
       "PF   557.0  0.825296  0.103925  0.650  0.740  0.820  0.920  1.000\n",
       "e    557.0  0.174704  0.103925  0.000  0.080  0.180  0.260  0.350\n",
       "dIf  557.0  0.350659  0.180566  0.037  0.189  0.345  0.486  0.769\n",
       "If   557.0  1.530659  0.180566  1.217  1.369  1.525  1.666  1.949"
      ]
     },
     "execution_count": 15,
     "metadata": {},
     "output_type": "execute_result"
    }
   ],
   "source": [
    "# lets now describe the cleaned dataset\n",
    "df.describe().T"
   ]
  },
  {
   "cell_type": "markdown",
   "id": "c669993f",
   "metadata": {},
   "source": [
    "# EXPLORATORY DATA ANALYSIS"
   ]
  },
  {
   "cell_type": "markdown",
   "id": "6f1b53f0",
   "metadata": {},
   "source": [
    "# univariate analysis"
   ]
  },
  {
   "cell_type": "markdown",
   "id": "c42b4aa8",
   "metadata": {},
   "source": [
    "Iy = load current"
   ]
  },
  {
   "cell_type": "code",
   "execution_count": 16,
   "id": "466f722b",
   "metadata": {},
   "outputs": [
    {
     "data": {
      "image/png": "[encoded data removed]",
      "text/plain": [
       "<Figure size 432x288 with 1 Axes>"
      ]
     },
     "metadata": {
      "needs_background": "light"
     },
     "output_type": "display_data"
    }
   ],
   "source": [
    "sns.boxplot(y = 'Iy', data = df)\n",
    "plt.show()"
   ]
  },
  {
   "cell_type": "code",
   "execution_count": 17,
   "id": "4918b1a6",
   "metadata": {},
   "outputs": [
    {
     "data": {
      "image/png": "[encoded data removed]",
      "text/plain": [
       "<Figure size 576x288 with 1 Axes>"
      ]
     },
     "metadata": {
      "needs_background": "light"
     },
     "output_type": "display_data"
    }
   ],
   "source": [
    "df['Iy'].plot.hist(edgecolor = 'black', color = 'blue', grid = False, figsize = (8, 4) )\n",
    "plt.title('Histogram plot of the load current')\n",
    "plt.show()"
   ]
  },
  {
   "cell_type": "markdown",
   "id": "afc63951",
   "metadata": {},
   "source": [
    "the mean load current is 4.4998. the minimum and maximum load current is 3.00 and 6.00 of the SM"
   ]
  },
  {
   "cell_type": "markdown",
   "id": "259b33e8",
   "metadata": {},
   "source": [
    "PF = Power factor"
   ]
  },
  {
   "cell_type": "code",
   "execution_count": 18,
   "id": "9a45ebeb",
   "metadata": {},
   "outputs": [
    {
     "data": {
      "image/png": "[encoded data removed]",
      "text/plain": [
       "<Figure size 432x288 with 1 Axes>"
      ]
     },
     "metadata": {
      "needs_background": "light"
     },
     "output_type": "display_data"
    }
   ],
   "source": [
    "sns.boxplot(y = 'PF', data = df)\n",
    "plt.show()"
   ]
  },
  {
   "cell_type": "code",
   "execution_count": 19,
   "id": "e45a16f0",
   "metadata": {},
   "outputs": [
    {
     "data": {
      "image/png": "[encoded data removed]",
      "text/plain": [
       "<Figure size 576x288 with 1 Axes>"
      ]
     },
     "metadata": {
      "needs_background": "light"
     },
     "output_type": "display_data"
    }
   ],
   "source": [
    "df['PF'].plot.hist(edgecolor = 'black', color = 'blue', grid = False, figsize = (8, 4) )\n",
    "plt.title('Histogram plot of the power factor')\n",
    "plt.show()"
   ]
  },
  {
   "cell_type": "markdown",
   "id": "451a8969",
   "metadata": {},
   "source": [
    "the mean power factor is 0.825. the minimum and maximum power factor is 0.650 and 1.00 of the SM"
   ]
  },
  {
   "cell_type": "markdown",
   "id": "8bcebf57",
   "metadata": {},
   "source": [
    "e = power factor error"
   ]
  },
  {
   "cell_type": "code",
   "execution_count": 20,
   "id": "55052301",
   "metadata": {},
   "outputs": [
    {
     "data": {
      "image/png": "[encoded data removed]",
      "text/plain": [
       "<Figure size 432x288 with 1 Axes>"
      ]
     },
     "metadata": {
      "needs_background": "light"
     },
     "output_type": "display_data"
    }
   ],
   "source": [
    "sns.boxplot(y = 'e', data = df)\n",
    "plt.show()"
   ]
  },
  {
   "cell_type": "code",
   "execution_count": 21,
   "id": "7edcaf8d",
   "metadata": {},
   "outputs": [
    {
     "data": {
      "image/png": "[encoded data removed]",
      "text/plain": [
       "<Figure size 576x288 with 1 Axes>"
      ]
     },
     "metadata": {
      "needs_background": "light"
     },
     "output_type": "display_data"
    }
   ],
   "source": [
    "df['e'].plot.hist(edgecolor = 'black', color = 'red', grid = False, figsize = (8, 4) )\n",
    "plt.title('Histogram plot of the power factor error')\n",
    "plt.show()"
   ]
  },
  {
   "cell_type": "markdown",
   "id": "4f8a65a9",
   "metadata": {},
   "source": [
    " the minimum and maximum power factor error o and 0.350 of the SM"
   ]
  },
  {
   "cell_type": "markdown",
   "id": "216a2a4b",
   "metadata": {},
   "source": [
    "dIf = changing of Excitation Current (EC) of SM"
   ]
  },
  {
   "cell_type": "code",
   "execution_count": 22,
   "id": "36d416db",
   "metadata": {},
   "outputs": [
    {
     "data": {
      "image/png": "[encoded data removed]",
      "text/plain": [
       "<Figure size 432x288 with 1 Axes>"
      ]
     },
     "metadata": {
      "needs_background": "light"
     },
     "output_type": "display_data"
    }
   ],
   "source": [
    "sns.boxplot(y = 'dIf', data = df)\n",
    "plt.show()"
   ]
  },
  {
   "cell_type": "code",
   "execution_count": 23,
   "id": "b7c09662",
   "metadata": {},
   "outputs": [
    {
     "data": {
      "image/png": "[encoded data removed]",
      "text/plain": [
       "<Figure size 576x288 with 1 Axes>"
      ]
     },
     "metadata": {
      "needs_background": "light"
     },
     "output_type": "display_data"
    }
   ],
   "source": [
    "df['dIf'].plot.hist(edgecolor = 'black', color = 'blue', grid = False, figsize = (8, 4) )\n",
    "plt.title('Histogram plot of the changing of EC of SM')\n",
    "plt.show()"
   ]
  },
  {
   "cell_type": "markdown",
   "id": "78bf28e3",
   "metadata": {},
   "source": [
    "the mean changing EC is 0.3507. the minimum and maximum changing EC is 0.037 and 0.769 of the SM"
   ]
  },
  {
   "cell_type": "markdown",
   "id": "70037da5",
   "metadata": {},
   "source": [
    "If = Ec of SM"
   ]
  },
  {
   "cell_type": "code",
   "execution_count": 24,
   "id": "28c401b3",
   "metadata": {},
   "outputs": [
    {
     "data": {
      "image/png": "[encoded data removed]",
      "text/plain": [
       "<Figure size 432x288 with 1 Axes>"
      ]
     },
     "metadata": {
      "needs_background": "light"
     },
     "output_type": "display_data"
    }
   ],
   "source": [
    "sns.boxplot(y = 'If', data = df)\n",
    "plt.show()"
   ]
  },
  {
   "cell_type": "code",
   "execution_count": 25,
   "id": "040b5a88",
   "metadata": {},
   "outputs": [
    {
     "data": {
      "image/png": "[encoded data removed]",
      "text/plain": [
       "<Figure size 576x288 with 1 Axes>"
      ]
     },
     "metadata": {
      "needs_background": "light"
     },
     "output_type": "display_data"
    }
   ],
   "source": [
    "df['If'].plot.hist(edgecolor = 'black', color = 'blue', grid = False, figsize = (8, 4) )\n",
    "plt.title('Histogram plot of the  EC of SM')\n",
    "plt.show()"
   ]
  },
  {
   "cell_type": "markdown",
   "id": "1dff1d64",
   "metadata": {},
   "source": [
    "The EC has a mean value 0f 1.5306 with a median value of 1.525. the minimum and maximum value of 1.217 and 1.949 respectively. "
   ]
  },
  {
   "cell_type": "markdown",
   "id": "f6b10a0d",
   "metadata": {},
   "source": [
    "# BIVARIATE ANALYSIS"
   ]
  },
  {
   "cell_type": "code",
   "execution_count": 26,
   "id": "6106b2b4",
   "metadata": {},
   "outputs": [
    {
     "data": {
      "image/png": "[encoded data removed]",
      "text/plain": [
       "<Figure size 432x288 with 1 Axes>"
      ]
     },
     "metadata": {
      "needs_background": "light"
     },
     "output_type": "display_data"
    }
   ],
   "source": [
    "sns.lineplot( x = 'Iy', y = 'If', data = df)\n",
    "plt.show()"
   ]
  },
  {
   "cell_type": "markdown",
   "id": "06502c5e",
   "metadata": {},
   "source": [
    "A sinusoidal reelationship exist between the EC and the load current which is directly proportional. "
   ]
  },
  {
   "cell_type": "code",
   "execution_count": 27,
   "id": "3d2de9b3",
   "metadata": {},
   "outputs": [
    {
     "data": {
      "image/png": "[encoded data removed]",
      "text/plain": [
       "<Figure size 432x288 with 1 Axes>"
      ]
     },
     "metadata": {
      "needs_background": "light"
     },
     "output_type": "display_data"
    }
   ],
   "source": [
    "sns.lineplot( x = 'PF', y = 'If', data = df)\n",
    "plt.show()"
   ]
  },
  {
   "cell_type": "markdown",
   "id": "8a54c896",
   "metadata": {},
   "source": [
    "A sinusoidal reelationship exist between the EC and the power factor which increases as the EC decreases."
   ]
  },
  {
   "cell_type": "code",
   "execution_count": 28,
   "id": "8bee5055",
   "metadata": {},
   "outputs": [
    {
     "data": {
      "image/png": "[encoded data removed]",
      "text/plain": [
       "<Figure size 432x288 with 1 Axes>"
      ]
     },
     "metadata": {
      "needs_background": "light"
     },
     "output_type": "display_data"
    }
   ],
   "source": [
    "sns.lineplot( x = 'e', y = 'If', data = df)\n",
    "plt.show()"
   ]
  },
  {
   "cell_type": "markdown",
   "id": "64802736",
   "metadata": {},
   "source": [
    "As the EC increases, the power factor error increases. Results from the experiment shows a proportionality relationship between the power factor and the EC"
   ]
  },
  {
   "cell_type": "code",
   "execution_count": 29,
   "id": "15c98aa1",
   "metadata": {},
   "outputs": [
    {
     "data": {
      "image/png": "[encoded data removed]",
      "text/plain": [
       "<Figure size 432x288 with 1 Axes>"
      ]
     },
     "metadata": {
      "needs_background": "light"
     },
     "output_type": "display_data"
    }
   ],
   "source": [
    "sns.lineplot( x = 'dIf', y = 'If', data = df)\n",
    "plt.show()"
   ]
  },
  {
   "cell_type": "markdown",
   "id": "cc7338e9",
   "metadata": {},
   "source": [
    "A linear relationship exist between the changing EC and the EC of SM"
   ]
  },
  {
   "cell_type": "markdown",
   "id": "8148c969",
   "metadata": {},
   "source": [
    "# MULTIVARIATE ANALYSIS"
   ]
  },
  {
   "cell_type": "code",
   "execution_count": 30,
   "id": "ceaeb0f1",
   "metadata": {},
   "outputs": [
    {
     "data": {
      "text/plain": [
       "<seaborn.axisgrid.PairGrid at 0x17bf0503e80>"
      ]
     },
     "execution_count": 30,
     "metadata": {},
     "output_type": "execute_result"
    },
    {
     "data": {
      "image/png": "[encoded data removed]",
      "text/plain": [
       "<Figure size 900x900 with 30 Axes>"
      ]
     },
     "metadata": {
      "needs_background": "light"
     },
     "output_type": "display_data"
    }
   ],
   "source": [
    "sns.pairplot(df)"
   ]
  },
  {
   "cell_type": "code",
   "execution_count": 31,
   "id": "a57cc20a",
   "metadata": {},
   "outputs": [
    {
     "data": {
      "text/html": [
       "<div>\n",
       "<style scoped>\n",
       "    .dataframe tbody tr th:only-of-type {\n",
       "        vertical-align: middle;\n",
       "    }\n",
       "\n",
       "    .dataframe tbody tr th {\n",
       "        vertical-align: top;\n",
       "    }\n",
       "\n",
       "    .dataframe thead th {\n",
       "        text-align: right;\n",
       "    }\n",
       "</style>\n",
       "<table border=\"1\" class=\"dataframe\">\n",
       "  <thead>\n",
       "    <tr style=\"text-align: right;\">\n",
       "      <th></th>\n",
       "      <th>Iy</th>\n",
       "      <th>PF</th>\n",
       "      <th>e</th>\n",
       "      <th>dIf</th>\n",
       "      <th>If</th>\n",
       "    </tr>\n",
       "  </thead>\n",
       "  <tbody>\n",
       "    <tr>\n",
       "      <th>Iy</th>\n",
       "      <td>1.000000</td>\n",
       "      <td>-0.041574</td>\n",
       "      <td>0.041574</td>\n",
       "      <td>0.424945</td>\n",
       "      <td>0.424945</td>\n",
       "    </tr>\n",
       "    <tr>\n",
       "      <th>PF</th>\n",
       "      <td>-0.041574</td>\n",
       "      <td>1.000000</td>\n",
       "      <td>-1.000000</td>\n",
       "      <td>-0.861013</td>\n",
       "      <td>-0.861013</td>\n",
       "    </tr>\n",
       "    <tr>\n",
       "      <th>e</th>\n",
       "      <td>0.041574</td>\n",
       "      <td>-1.000000</td>\n",
       "      <td>1.000000</td>\n",
       "      <td>0.861013</td>\n",
       "      <td>0.861013</td>\n",
       "    </tr>\n",
       "    <tr>\n",
       "      <th>dIf</th>\n",
       "      <td>0.424945</td>\n",
       "      <td>-0.861013</td>\n",
       "      <td>0.861013</td>\n",
       "      <td>1.000000</td>\n",
       "      <td>1.000000</td>\n",
       "    </tr>\n",
       "    <tr>\n",
       "      <th>If</th>\n",
       "      <td>0.424945</td>\n",
       "      <td>-0.861013</td>\n",
       "      <td>0.861013</td>\n",
       "      <td>1.000000</td>\n",
       "      <td>1.000000</td>\n",
       "    </tr>\n",
       "  </tbody>\n",
       "</table>\n",
       "</div>"
      ],
      "text/plain": [
       "           Iy        PF         e       dIf        If\n",
       "Iy   1.000000 -0.041574  0.041574  0.424945  0.424945\n",
       "PF  -0.041574  1.000000 -1.000000 -0.861013 -0.861013\n",
       "e    0.041574 -1.000000  1.000000  0.861013  0.861013\n",
       "dIf  0.424945 -0.861013  0.861013  1.000000  1.000000\n",
       "If   0.424945 -0.861013  0.861013  1.000000  1.000000"
      ]
     },
     "execution_count": 31,
     "metadata": {},
     "output_type": "execute_result"
    }
   ],
   "source": [
    "df.corr()"
   ]
  },
  {
   "cell_type": "code",
   "execution_count": 32,
   "id": "210a98e3",
   "metadata": {},
   "outputs": [
    {
     "data": {
      "image/png": "[encoded data removed]",
      "text/plain": [
       "<Figure size 432x288 with 2 Axes>"
      ]
     },
     "metadata": {
      "needs_background": "light"
     },
     "output_type": "display_data"
    }
   ],
   "source": [
    "sns.heatmap(df.corr(), annot = True)\n",
    "plt.show()"
   ]
  },
  {
   "cell_type": "markdown",
   "id": "5fc5c4ea",
   "metadata": {},
   "source": [
    "the heatmap shows the correlation of the parameters of the data set"
   ]
  },
  {
   "cell_type": "markdown",
   "id": "4cf2c3cd",
   "metadata": {},
   "source": [
    "# MODELLING"
   ]
  },
  {
   "cell_type": "code",
   "execution_count": 33,
   "id": "2cfa2c60",
   "metadata": {},
   "outputs": [
    {
     "data": {
      "text/html": [
       "<div>\n",
       "<style scoped>\n",
       "    .dataframe tbody tr th:only-of-type {\n",
       "        vertical-align: middle;\n",
       "    }\n",
       "\n",
       "    .dataframe tbody tr th {\n",
       "        vertical-align: top;\n",
       "    }\n",
       "\n",
       "    .dataframe thead th {\n",
       "        text-align: right;\n",
       "    }\n",
       "</style>\n",
       "<table border=\"1\" class=\"dataframe\">\n",
       "  <thead>\n",
       "    <tr style=\"text-align: right;\">\n",
       "      <th></th>\n",
       "      <th>Iy</th>\n",
       "      <th>PF</th>\n",
       "      <th>e</th>\n",
       "      <th>dIf</th>\n",
       "      <th>If</th>\n",
       "    </tr>\n",
       "  </thead>\n",
       "  <tbody>\n",
       "    <tr>\n",
       "      <th>0</th>\n",
       "      <td>3.0</td>\n",
       "      <td>0.66</td>\n",
       "      <td>0.34</td>\n",
       "      <td>0.383</td>\n",
       "      <td>1.563</td>\n",
       "    </tr>\n",
       "    <tr>\n",
       "      <th>1</th>\n",
       "      <td>3.0</td>\n",
       "      <td>0.68</td>\n",
       "      <td>0.32</td>\n",
       "      <td>0.372</td>\n",
       "      <td>1.552</td>\n",
       "    </tr>\n",
       "    <tr>\n",
       "      <th>2</th>\n",
       "      <td>3.0</td>\n",
       "      <td>0.70</td>\n",
       "      <td>0.30</td>\n",
       "      <td>0.360</td>\n",
       "      <td>1.540</td>\n",
       "    </tr>\n",
       "    <tr>\n",
       "      <th>3</th>\n",
       "      <td>3.0</td>\n",
       "      <td>0.72</td>\n",
       "      <td>0.28</td>\n",
       "      <td>0.338</td>\n",
       "      <td>1.518</td>\n",
       "    </tr>\n",
       "    <tr>\n",
       "      <th>4</th>\n",
       "      <td>3.0</td>\n",
       "      <td>0.74</td>\n",
       "      <td>0.26</td>\n",
       "      <td>0.317</td>\n",
       "      <td>1.497</td>\n",
       "    </tr>\n",
       "  </tbody>\n",
       "</table>\n",
       "</div>"
      ],
      "text/plain": [
       "    Iy    PF     e    dIf     If\n",
       "0  3.0  0.66  0.34  0.383  1.563\n",
       "1  3.0  0.68  0.32  0.372  1.552\n",
       "2  3.0  0.70  0.30  0.360  1.540\n",
       "3  3.0  0.72  0.28  0.338  1.518\n",
       "4  3.0  0.74  0.26  0.317  1.497"
      ]
     },
     "execution_count": 33,
     "metadata": {},
     "output_type": "execute_result"
    }
   ],
   "source": [
    "# lets call the data set\n",
    "df.head(5)"
   ]
  },
  {
   "cell_type": "markdown",
   "id": "f340c482",
   "metadata": {},
   "source": [
    "# DATA PREPROCESSING"
   ]
  },
  {
   "cell_type": "markdown",
   "id": "0cac3655",
   "metadata": {},
   "source": [
    "OUTLIERS TREATMENT"
   ]
  },
  {
   "cell_type": "markdown",
   "id": "187f2af6",
   "metadata": {},
   "source": [
    "No outlier detected nor treated in this study"
   ]
  },
  {
   "cell_type": "code",
   "execution_count": 34,
   "id": "180f04c6",
   "metadata": {},
   "outputs": [],
   "source": [
    "# getting target\n",
    "y = df['If']"
   ]
  },
  {
   "cell_type": "code",
   "execution_count": 35,
   "id": "56f001f7",
   "metadata": {},
   "outputs": [
    {
     "data": {
      "text/html": [
       "<div>\n",
       "<style scoped>\n",
       "    .dataframe tbody tr th:only-of-type {\n",
       "        vertical-align: middle;\n",
       "    }\n",
       "\n",
       "    .dataframe tbody tr th {\n",
       "        vertical-align: top;\n",
       "    }\n",
       "\n",
       "    .dataframe thead th {\n",
       "        text-align: right;\n",
       "    }\n",
       "</style>\n",
       "<table border=\"1\" class=\"dataframe\">\n",
       "  <thead>\n",
       "    <tr style=\"text-align: right;\">\n",
       "      <th></th>\n",
       "      <th>Iy</th>\n",
       "      <th>PF</th>\n",
       "      <th>e</th>\n",
       "      <th>dIf</th>\n",
       "    </tr>\n",
       "  </thead>\n",
       "  <tbody>\n",
       "    <tr>\n",
       "      <th>0</th>\n",
       "      <td>3.0</td>\n",
       "      <td>0.66</td>\n",
       "      <td>0.34</td>\n",
       "      <td>0.383</td>\n",
       "    </tr>\n",
       "    <tr>\n",
       "      <th>1</th>\n",
       "      <td>3.0</td>\n",
       "      <td>0.68</td>\n",
       "      <td>0.32</td>\n",
       "      <td>0.372</td>\n",
       "    </tr>\n",
       "    <tr>\n",
       "      <th>2</th>\n",
       "      <td>3.0</td>\n",
       "      <td>0.70</td>\n",
       "      <td>0.30</td>\n",
       "      <td>0.360</td>\n",
       "    </tr>\n",
       "    <tr>\n",
       "      <th>3</th>\n",
       "      <td>3.0</td>\n",
       "      <td>0.72</td>\n",
       "      <td>0.28</td>\n",
       "      <td>0.338</td>\n",
       "    </tr>\n",
       "    <tr>\n",
       "      <th>4</th>\n",
       "      <td>3.0</td>\n",
       "      <td>0.74</td>\n",
       "      <td>0.26</td>\n",
       "      <td>0.317</td>\n",
       "    </tr>\n",
       "  </tbody>\n",
       "</table>\n",
       "</div>"
      ],
      "text/plain": [
       "    Iy    PF     e    dIf\n",
       "0  3.0  0.66  0.34  0.383\n",
       "1  3.0  0.68  0.32  0.372\n",
       "2  3.0  0.70  0.30  0.360\n",
       "3  3.0  0.72  0.28  0.338\n",
       "4  3.0  0.74  0.26  0.317"
      ]
     },
     "execution_count": 35,
     "metadata": {},
     "output_type": "execute_result"
    }
   ],
   "source": [
    "x = df.drop(columns = ['If'])\n",
    "x.head()"
   ]
  },
  {
   "cell_type": "code",
   "execution_count": 36,
   "id": "041adc3b",
   "metadata": {},
   "outputs": [],
   "source": [
    "from sklearn.preprocessing import StandardScaler"
   ]
  },
  {
   "cell_type": "code",
   "execution_count": 37,
   "id": "f84f1016",
   "metadata": {},
   "outputs": [
    {
     "data": {
      "text/plain": [
       "array([[-1.67536583, -1.59195683,  1.59195683,  0.17927073],\n",
       "       [-1.67536583, -1.39933818,  1.39933818,  0.11829639],\n",
       "       [-1.67536583, -1.20671953,  1.20671953,  0.05177893],\n",
       "       ...,\n",
       "       [ 1.67576692,  1.20101359, -1.20101359, -1.05684546],\n",
       "       [ 1.67576692,  1.39363224, -1.39363224, -1.05684546],\n",
       "       [ 1.67576692,  1.58625089, -1.58625089, -1.05684546]])"
      ]
     },
     "execution_count": 37,
     "metadata": {},
     "output_type": "execute_result"
    }
   ],
   "source": [
    "scaler = StandardScaler()\n",
    "X = scaler.fit_transform(x)\n",
    "X"
   ]
  },
  {
   "cell_type": "code",
   "execution_count": 38,
   "id": "4fa8cbce",
   "metadata": {},
   "outputs": [],
   "source": [
    "from sklearn.model_selection import train_test_split"
   ]
  },
  {
   "cell_type": "code",
   "execution_count": 39,
   "id": "00da5a96",
   "metadata": {},
   "outputs": [],
   "source": [
    "x_train, x_test, y_train, y_test = train_test_split(x, y, test_size = 0.30, train_size = 0.70, random_state = 100)"
   ]
  },
  {
   "cell_type": "code",
   "execution_count": 40,
   "id": "3b3ac5ab",
   "metadata": {},
   "outputs": [
    {
     "data": {
      "text/html": [
       "<div>\n",
       "<style scoped>\n",
       "    .dataframe tbody tr th:only-of-type {\n",
       "        vertical-align: middle;\n",
       "    }\n",
       "\n",
       "    .dataframe tbody tr th {\n",
       "        vertical-align: top;\n",
       "    }\n",
       "\n",
       "    .dataframe thead th {\n",
       "        text-align: right;\n",
       "    }\n",
       "</style>\n",
       "<table border=\"1\" class=\"dataframe\">\n",
       "  <thead>\n",
       "    <tr style=\"text-align: right;\">\n",
       "      <th></th>\n",
       "      <th>Iy</th>\n",
       "      <th>PF</th>\n",
       "      <th>e</th>\n",
       "      <th>dIf</th>\n",
       "    </tr>\n",
       "  </thead>\n",
       "  <tbody>\n",
       "    <tr>\n",
       "      <th>287</th>\n",
       "      <td>4.5</td>\n",
       "      <td>1.00</td>\n",
       "      <td>0.00</td>\n",
       "      <td>0.096</td>\n",
       "    </tr>\n",
       "    <tr>\n",
       "      <th>482</th>\n",
       "      <td>5.6</td>\n",
       "      <td>0.95</td>\n",
       "      <td>0.05</td>\n",
       "      <td>0.277</td>\n",
       "    </tr>\n",
       "    <tr>\n",
       "      <th>442</th>\n",
       "      <td>5.4</td>\n",
       "      <td>0.87</td>\n",
       "      <td>0.13</td>\n",
       "      <td>0.286</td>\n",
       "    </tr>\n",
       "    <tr>\n",
       "      <th>221</th>\n",
       "      <td>4.3</td>\n",
       "      <td>0.98</td>\n",
       "      <td>0.02</td>\n",
       "      <td>0.140</td>\n",
       "    </tr>\n",
       "    <tr>\n",
       "      <th>321</th>\n",
       "      <td>4.7</td>\n",
       "      <td>0.97</td>\n",
       "      <td>0.03</td>\n",
       "      <td>0.185</td>\n",
       "    </tr>\n",
       "    <tr>\n",
       "      <th>...</th>\n",
       "      <td>...</td>\n",
       "      <td>...</td>\n",
       "      <td>...</td>\n",
       "      <td>...</td>\n",
       "    </tr>\n",
       "    <tr>\n",
       "      <th>526</th>\n",
       "      <td>5.9</td>\n",
       "      <td>0.75</td>\n",
       "      <td>0.25</td>\n",
       "      <td>0.666</td>\n",
       "    </tr>\n",
       "    <tr>\n",
       "      <th>53</th>\n",
       "      <td>3.2</td>\n",
       "      <td>1.00</td>\n",
       "      <td>0.00</td>\n",
       "      <td>0.118</td>\n",
       "    </tr>\n",
       "    <tr>\n",
       "      <th>350</th>\n",
       "      <td>4.9</td>\n",
       "      <td>0.83</td>\n",
       "      <td>0.17</td>\n",
       "      <td>0.373</td>\n",
       "    </tr>\n",
       "    <tr>\n",
       "      <th>79</th>\n",
       "      <td>3.4</td>\n",
       "      <td>0.80</td>\n",
       "      <td>0.20</td>\n",
       "      <td>0.317</td>\n",
       "    </tr>\n",
       "    <tr>\n",
       "      <th>520</th>\n",
       "      <td>5.8</td>\n",
       "      <td>0.99</td>\n",
       "      <td>0.01</td>\n",
       "      <td>0.218</td>\n",
       "    </tr>\n",
       "  </tbody>\n",
       "</table>\n",
       "<p>389 rows × 4 columns</p>\n",
       "</div>"
      ],
      "text/plain": [
       "      Iy    PF     e    dIf\n",
       "287  4.5  1.00  0.00  0.096\n",
       "482  5.6  0.95  0.05  0.277\n",
       "442  5.4  0.87  0.13  0.286\n",
       "221  4.3  0.98  0.02  0.140\n",
       "321  4.7  0.97  0.03  0.185\n",
       "..   ...   ...   ...    ...\n",
       "526  5.9  0.75  0.25  0.666\n",
       "53   3.2  1.00  0.00  0.118\n",
       "350  4.9  0.83  0.17  0.373\n",
       "79   3.4  0.80  0.20  0.317\n",
       "520  5.8  0.99  0.01  0.218\n",
       "\n",
       "[389 rows x 4 columns]"
      ]
     },
     "execution_count": 40,
     "metadata": {},
     "output_type": "execute_result"
    }
   ],
   "source": [
    "x_train"
   ]
  },
  {
   "cell_type": "markdown",
   "id": "d8909ac4",
   "metadata": {},
   "source": [
    "# BASELINE"
   ]
  },
  {
   "cell_type": "code",
   "execution_count": 41,
   "id": "a51d0a68",
   "metadata": {},
   "outputs": [
    {
     "data": {
      "text/plain": [
       "287    1.276\n",
       "482    1.457\n",
       "442    1.466\n",
       "221    1.320\n",
       "321    1.365\n",
       "       ...  \n",
       "526    1.846\n",
       "53     1.298\n",
       "350    1.553\n",
       "79     1.497\n",
       "520    1.398\n",
       "Name: If, Length: 389, dtype: float64"
      ]
     },
     "execution_count": 41,
     "metadata": {},
     "output_type": "execute_result"
    }
   ],
   "source": [
    "y_train"
   ]
  },
  {
   "cell_type": "code",
   "execution_count": 42,
   "id": "d83dbf91",
   "metadata": {},
   "outputs": [],
   "source": [
    "# Lets take the mean of y_train\n",
    "y_mean = y_train.mean()"
   ]
  },
  {
   "cell_type": "code",
   "execution_count": 43,
   "id": "273a8920",
   "metadata": {},
   "outputs": [
    {
     "data": {
      "text/plain": [
       "[1.5256658097686369,\n",
       " 1.5256658097686369,\n",
       " 1.5256658097686369,\n",
       " 1.5256658097686369,\n",
       " 1.5256658097686369,\n",
       " 1.5256658097686369,\n",
       " 1.5256658097686369,\n",
       " 1.5256658097686369,\n",
       " 1.5256658097686369,\n",
       " 1.5256658097686369,\n",
       " 1.5256658097686369,\n",
       " 1.5256658097686369,\n",
       " 1.5256658097686369,\n",
       " 1.5256658097686369,\n",
       " 1.5256658097686369,\n",
       " 1.5256658097686369,\n",
       " 1.5256658097686369,\n",
       " 1.5256658097686369,\n",
       " 1.5256658097686369,\n",
       " 1.5256658097686369,\n",
       " 1.5256658097686369,\n",
       " 1.5256658097686369,\n",
       " 1.5256658097686369,\n",
       " 1.5256658097686369,\n",
       " 1.5256658097686369,\n",
       " 1.5256658097686369,\n",
       " 1.5256658097686369,\n",
       " 1.5256658097686369,\n",
       " 1.5256658097686369,\n",
       " 1.5256658097686369,\n",
       " 1.5256658097686369,\n",
       " 1.5256658097686369,\n",
       " 1.5256658097686369,\n",
       " 1.5256658097686369,\n",
       " 1.5256658097686369,\n",
       " 1.5256658097686369,\n",
       " 1.5256658097686369,\n",
       " 1.5256658097686369,\n",
       " 1.5256658097686369,\n",
       " 1.5256658097686369,\n",
       " 1.5256658097686369,\n",
       " 1.5256658097686369,\n",
       " 1.5256658097686369,\n",
       " 1.5256658097686369,\n",
       " 1.5256658097686369,\n",
       " 1.5256658097686369,\n",
       " 1.5256658097686369,\n",
       " 1.5256658097686369,\n",
       " 1.5256658097686369,\n",
       " 1.5256658097686369,\n",
       " 1.5256658097686369,\n",
       " 1.5256658097686369,\n",
       " 1.5256658097686369,\n",
       " 1.5256658097686369,\n",
       " 1.5256658097686369,\n",
       " 1.5256658097686369,\n",
       " 1.5256658097686369,\n",
       " 1.5256658097686369,\n",
       " 1.5256658097686369,\n",
       " 1.5256658097686369,\n",
       " 1.5256658097686369,\n",
       " 1.5256658097686369,\n",
       " 1.5256658097686369,\n",
       " 1.5256658097686369,\n",
       " 1.5256658097686369,\n",
       " 1.5256658097686369,\n",
       " 1.5256658097686369,\n",
       " 1.5256658097686369,\n",
       " 1.5256658097686369,\n",
       " 1.5256658097686369,\n",
       " 1.5256658097686369,\n",
       " 1.5256658097686369,\n",
       " 1.5256658097686369,\n",
       " 1.5256658097686369,\n",
       " 1.5256658097686369,\n",
       " 1.5256658097686369,\n",
       " 1.5256658097686369,\n",
       " 1.5256658097686369,\n",
       " 1.5256658097686369,\n",
       " 1.5256658097686369,\n",
       " 1.5256658097686369,\n",
       " 1.5256658097686369,\n",
       " 1.5256658097686369,\n",
       " 1.5256658097686369,\n",
       " 1.5256658097686369,\n",
       " 1.5256658097686369,\n",
       " 1.5256658097686369,\n",
       " 1.5256658097686369,\n",
       " 1.5256658097686369,\n",
       " 1.5256658097686369,\n",
       " 1.5256658097686369,\n",
       " 1.5256658097686369,\n",
       " 1.5256658097686369,\n",
       " 1.5256658097686369,\n",
       " 1.5256658097686369,\n",
       " 1.5256658097686369,\n",
       " 1.5256658097686369,\n",
       " 1.5256658097686369,\n",
       " 1.5256658097686369,\n",
       " 1.5256658097686369,\n",
       " 1.5256658097686369,\n",
       " 1.5256658097686369,\n",
       " 1.5256658097686369,\n",
       " 1.5256658097686369,\n",
       " 1.5256658097686369,\n",
       " 1.5256658097686369,\n",
       " 1.5256658097686369,\n",
       " 1.5256658097686369,\n",
       " 1.5256658097686369,\n",
       " 1.5256658097686369,\n",
       " 1.5256658097686369,\n",
       " 1.5256658097686369,\n",
       " 1.5256658097686369,\n",
       " 1.5256658097686369,\n",
       " 1.5256658097686369,\n",
       " 1.5256658097686369,\n",
       " 1.5256658097686369,\n",
       " 1.5256658097686369,\n",
       " 1.5256658097686369,\n",
       " 1.5256658097686369,\n",
       " 1.5256658097686369,\n",
       " 1.5256658097686369,\n",
       " 1.5256658097686369,\n",
       " 1.5256658097686369,\n",
       " 1.5256658097686369,\n",
       " 1.5256658097686369,\n",
       " 1.5256658097686369,\n",
       " 1.5256658097686369,\n",
       " 1.5256658097686369,\n",
       " 1.5256658097686369,\n",
       " 1.5256658097686369,\n",
       " 1.5256658097686369,\n",
       " 1.5256658097686369,\n",
       " 1.5256658097686369,\n",
       " 1.5256658097686369,\n",
       " 1.5256658097686369,\n",
       " 1.5256658097686369,\n",
       " 1.5256658097686369,\n",
       " 1.5256658097686369,\n",
       " 1.5256658097686369,\n",
       " 1.5256658097686369,\n",
       " 1.5256658097686369,\n",
       " 1.5256658097686369,\n",
       " 1.5256658097686369,\n",
       " 1.5256658097686369,\n",
       " 1.5256658097686369,\n",
       " 1.5256658097686369,\n",
       " 1.5256658097686369,\n",
       " 1.5256658097686369,\n",
       " 1.5256658097686369,\n",
       " 1.5256658097686369,\n",
       " 1.5256658097686369,\n",
       " 1.5256658097686369,\n",
       " 1.5256658097686369,\n",
       " 1.5256658097686369,\n",
       " 1.5256658097686369,\n",
       " 1.5256658097686369,\n",
       " 1.5256658097686369,\n",
       " 1.5256658097686369,\n",
       " 1.5256658097686369,\n",
       " 1.5256658097686369,\n",
       " 1.5256658097686369,\n",
       " 1.5256658097686369,\n",
       " 1.5256658097686369,\n",
       " 1.5256658097686369,\n",
       " 1.5256658097686369,\n",
       " 1.5256658097686369,\n",
       " 1.5256658097686369,\n",
       " 1.5256658097686369,\n",
       " 1.5256658097686369,\n",
       " 1.5256658097686369,\n",
       " 1.5256658097686369,\n",
       " 1.5256658097686369,\n",
       " 1.5256658097686369,\n",
       " 1.5256658097686369,\n",
       " 1.5256658097686369,\n",
       " 1.5256658097686369,\n",
       " 1.5256658097686369,\n",
       " 1.5256658097686369,\n",
       " 1.5256658097686369,\n",
       " 1.5256658097686369,\n",
       " 1.5256658097686369,\n",
       " 1.5256658097686369,\n",
       " 1.5256658097686369,\n",
       " 1.5256658097686369,\n",
       " 1.5256658097686369,\n",
       " 1.5256658097686369,\n",
       " 1.5256658097686369,\n",
       " 1.5256658097686369,\n",
       " 1.5256658097686369,\n",
       " 1.5256658097686369,\n",
       " 1.5256658097686369,\n",
       " 1.5256658097686369,\n",
       " 1.5256658097686369,\n",
       " 1.5256658097686369,\n",
       " 1.5256658097686369,\n",
       " 1.5256658097686369,\n",
       " 1.5256658097686369,\n",
       " 1.5256658097686369,\n",
       " 1.5256658097686369,\n",
       " 1.5256658097686369,\n",
       " 1.5256658097686369,\n",
       " 1.5256658097686369,\n",
       " 1.5256658097686369,\n",
       " 1.5256658097686369,\n",
       " 1.5256658097686369,\n",
       " 1.5256658097686369,\n",
       " 1.5256658097686369,\n",
       " 1.5256658097686369,\n",
       " 1.5256658097686369,\n",
       " 1.5256658097686369,\n",
       " 1.5256658097686369,\n",
       " 1.5256658097686369,\n",
       " 1.5256658097686369,\n",
       " 1.5256658097686369,\n",
       " 1.5256658097686369,\n",
       " 1.5256658097686369,\n",
       " 1.5256658097686369,\n",
       " 1.5256658097686369,\n",
       " 1.5256658097686369,\n",
       " 1.5256658097686369,\n",
       " 1.5256658097686369,\n",
       " 1.5256658097686369,\n",
       " 1.5256658097686369,\n",
       " 1.5256658097686369,\n",
       " 1.5256658097686369,\n",
       " 1.5256658097686369,\n",
       " 1.5256658097686369,\n",
       " 1.5256658097686369,\n",
       " 1.5256658097686369,\n",
       " 1.5256658097686369,\n",
       " 1.5256658097686369,\n",
       " 1.5256658097686369,\n",
       " 1.5256658097686369,\n",
       " 1.5256658097686369,\n",
       " 1.5256658097686369,\n",
       " 1.5256658097686369,\n",
       " 1.5256658097686369,\n",
       " 1.5256658097686369,\n",
       " 1.5256658097686369,\n",
       " 1.5256658097686369,\n",
       " 1.5256658097686369,\n",
       " 1.5256658097686369,\n",
       " 1.5256658097686369,\n",
       " 1.5256658097686369,\n",
       " 1.5256658097686369,\n",
       " 1.5256658097686369,\n",
       " 1.5256658097686369,\n",
       " 1.5256658097686369,\n",
       " 1.5256658097686369,\n",
       " 1.5256658097686369,\n",
       " 1.5256658097686369,\n",
       " 1.5256658097686369,\n",
       " 1.5256658097686369,\n",
       " 1.5256658097686369,\n",
       " 1.5256658097686369,\n",
       " 1.5256658097686369,\n",
       " 1.5256658097686369,\n",
       " 1.5256658097686369,\n",
       " 1.5256658097686369,\n",
       " 1.5256658097686369,\n",
       " 1.5256658097686369,\n",
       " 1.5256658097686369,\n",
       " 1.5256658097686369,\n",
       " 1.5256658097686369,\n",
       " 1.5256658097686369,\n",
       " 1.5256658097686369,\n",
       " 1.5256658097686369,\n",
       " 1.5256658097686369,\n",
       " 1.5256658097686369,\n",
       " 1.5256658097686369,\n",
       " 1.5256658097686369,\n",
       " 1.5256658097686369,\n",
       " 1.5256658097686369,\n",
       " 1.5256658097686369,\n",
       " 1.5256658097686369,\n",
       " 1.5256658097686369,\n",
       " 1.5256658097686369,\n",
       " 1.5256658097686369,\n",
       " 1.5256658097686369,\n",
       " 1.5256658097686369,\n",
       " 1.5256658097686369,\n",
       " 1.5256658097686369,\n",
       " 1.5256658097686369,\n",
       " 1.5256658097686369,\n",
       " 1.5256658097686369,\n",
       " 1.5256658097686369,\n",
       " 1.5256658097686369,\n",
       " 1.5256658097686369,\n",
       " 1.5256658097686369,\n",
       " 1.5256658097686369,\n",
       " 1.5256658097686369,\n",
       " 1.5256658097686369,\n",
       " 1.5256658097686369,\n",
       " 1.5256658097686369,\n",
       " 1.5256658097686369,\n",
       " 1.5256658097686369,\n",
       " 1.5256658097686369,\n",
       " 1.5256658097686369,\n",
       " 1.5256658097686369,\n",
       " 1.5256658097686369,\n",
       " 1.5256658097686369,\n",
       " 1.5256658097686369,\n",
       " 1.5256658097686369,\n",
       " 1.5256658097686369,\n",
       " 1.5256658097686369,\n",
       " 1.5256658097686369,\n",
       " 1.5256658097686369,\n",
       " 1.5256658097686369,\n",
       " 1.5256658097686369,\n",
       " 1.5256658097686369,\n",
       " 1.5256658097686369,\n",
       " 1.5256658097686369,\n",
       " 1.5256658097686369,\n",
       " 1.5256658097686369,\n",
       " 1.5256658097686369,\n",
       " 1.5256658097686369,\n",
       " 1.5256658097686369,\n",
       " 1.5256658097686369,\n",
       " 1.5256658097686369,\n",
       " 1.5256658097686369,\n",
       " 1.5256658097686369,\n",
       " 1.5256658097686369,\n",
       " 1.5256658097686369,\n",
       " 1.5256658097686369,\n",
       " 1.5256658097686369,\n",
       " 1.5256658097686369,\n",
       " 1.5256658097686369,\n",
       " 1.5256658097686369,\n",
       " 1.5256658097686369,\n",
       " 1.5256658097686369,\n",
       " 1.5256658097686369,\n",
       " 1.5256658097686369,\n",
       " 1.5256658097686369,\n",
       " 1.5256658097686369,\n",
       " 1.5256658097686369,\n",
       " 1.5256658097686369,\n",
       " 1.5256658097686369,\n",
       " 1.5256658097686369,\n",
       " 1.5256658097686369,\n",
       " 1.5256658097686369,\n",
       " 1.5256658097686369,\n",
       " 1.5256658097686369,\n",
       " 1.5256658097686369,\n",
       " 1.5256658097686369,\n",
       " 1.5256658097686369,\n",
       " 1.5256658097686369,\n",
       " 1.5256658097686369,\n",
       " 1.5256658097686369,\n",
       " 1.5256658097686369,\n",
       " 1.5256658097686369,\n",
       " 1.5256658097686369,\n",
       " 1.5256658097686369,\n",
       " 1.5256658097686369,\n",
       " 1.5256658097686369,\n",
       " 1.5256658097686369,\n",
       " 1.5256658097686369,\n",
       " 1.5256658097686369,\n",
       " 1.5256658097686369,\n",
       " 1.5256658097686369,\n",
       " 1.5256658097686369,\n",
       " 1.5256658097686369,\n",
       " 1.5256658097686369,\n",
       " 1.5256658097686369,\n",
       " 1.5256658097686369,\n",
       " 1.5256658097686369,\n",
       " 1.5256658097686369,\n",
       " 1.5256658097686369,\n",
       " 1.5256658097686369,\n",
       " 1.5256658097686369,\n",
       " 1.5256658097686369,\n",
       " 1.5256658097686369,\n",
       " 1.5256658097686369,\n",
       " 1.5256658097686369,\n",
       " 1.5256658097686369,\n",
       " 1.5256658097686369,\n",
       " 1.5256658097686369,\n",
       " 1.5256658097686369,\n",
       " 1.5256658097686369,\n",
       " 1.5256658097686369,\n",
       " 1.5256658097686369,\n",
       " 1.5256658097686369,\n",
       " 1.5256658097686369,\n",
       " 1.5256658097686369,\n",
       " 1.5256658097686369,\n",
       " 1.5256658097686369,\n",
       " 1.5256658097686369,\n",
       " 1.5256658097686369,\n",
       " 1.5256658097686369]"
      ]
     },
     "execution_count": 43,
     "metadata": {},
     "output_type": "execute_result"
    }
   ],
   "source": [
    "y_baseline_predict = [y_mean] * len(y_train)\n",
    "y_baseline_predict"
   ]
  },
  {
   "cell_type": "code",
   "execution_count": 44,
   "id": "dc4df1a4",
   "metadata": {},
   "outputs": [],
   "source": [
    "from sklearn.metrics import mean_absolute_error, r2_score"
   ]
  },
  {
   "cell_type": "code",
   "execution_count": 45,
   "id": "c5c6ad9d",
   "metadata": {},
   "outputs": [
    {
     "data": {
      "text/plain": [
       "0.1542801858301227"
      ]
     },
     "execution_count": 45,
     "metadata": {},
     "output_type": "execute_result"
    }
   ],
   "source": [
    "mean_absolute_error(y_train, y_baseline_predict)"
   ]
  },
  {
   "cell_type": "markdown",
   "id": "a4554737",
   "metadata": {},
   "source": [
    "# LINEAR REGRESSION"
   ]
  },
  {
   "cell_type": "code",
   "execution_count": 46,
   "id": "2d06bfc4",
   "metadata": {},
   "outputs": [],
   "source": [
    "from sklearn.linear_model import LinearRegression"
   ]
  },
  {
   "cell_type": "code",
   "execution_count": 47,
   "id": "52f7a694",
   "metadata": {},
   "outputs": [],
   "source": [
    "model = LinearRegression()"
   ]
  },
  {
   "cell_type": "code",
   "execution_count": 48,
   "id": "ca59e8e7",
   "metadata": {},
   "outputs": [
    {
     "data": {
      "text/plain": [
       "LinearRegression()"
      ]
     },
     "execution_count": 48,
     "metadata": {},
     "output_type": "execute_result"
    }
   ],
   "source": [
    "model.fit(x_train, y_train)"
   ]
  },
  {
   "cell_type": "code",
   "execution_count": 49,
   "id": "a397fb10",
   "metadata": {},
   "outputs": [
    {
     "data": {
      "text/plain": [
       "array([ 1.03671970e-16, -1.11022302e-16,  3.88578059e-16,  1.00000000e+00])"
      ]
     },
     "execution_count": 49,
     "metadata": {},
     "output_type": "execute_result"
    }
   ],
   "source": [
    "model.coef_"
   ]
  },
  {
   "cell_type": "code",
   "execution_count": 50,
   "id": "27f4ac3e",
   "metadata": {},
   "outputs": [
    {
     "data": {
      "text/plain": [
       "1.1800000000000004"
      ]
     },
     "execution_count": 50,
     "metadata": {},
     "output_type": "execute_result"
    }
   ],
   "source": [
    "model.intercept_"
   ]
  },
  {
   "cell_type": "code",
   "execution_count": 51,
   "id": "fe91ce7c",
   "metadata": {},
   "outputs": [],
   "source": [
    "prediction = model.predict(x_test)"
   ]
  },
  {
   "cell_type": "code",
   "execution_count": 52,
   "id": "2a1f4198",
   "metadata": {},
   "outputs": [
    {
     "data": {
      "text/plain": [
       "array([1.65 , 1.481, 1.236, 1.811, 1.61 , 1.646, 1.314, 1.318, 1.322,\n",
       "       1.298, 1.296, 1.458, 1.486, 1.47 , 1.637, 1.225, 1.365, 1.527,\n",
       "       1.565, 1.394, 1.598, 1.525, 1.721, 1.859, 1.599, 1.679, 1.575,\n",
       "       1.256, 1.705, 1.557, 1.301, 1.37 , 1.518, 1.408, 1.529, 1.236,\n",
       "       1.603, 1.569, 1.881, 1.495, 1.32 , 1.217, 1.877, 1.557, 1.773,\n",
       "       1.497, 1.429, 1.441, 1.486, 1.337, 1.345, 1.753, 1.369, 1.755,\n",
       "       1.396, 1.252, 1.598, 1.32 , 1.45 , 1.38 , 1.48 , 1.821, 1.34 ,\n",
       "       1.38 , 1.809, 1.32 , 1.711, 1.633, 1.317, 1.661, 1.433, 1.707,\n",
       "       1.949, 1.832, 1.9  , 1.518, 1.61 , 1.555, 1.45 , 1.506, 1.61 ,\n",
       "       1.667, 1.617, 1.67 , 1.622, 1.318, 1.607, 1.372, 1.32 , 1.589,\n",
       "       1.47 , 1.342, 1.549, 1.773, 1.916, 1.574, 1.831, 1.652, 1.398,\n",
       "       1.699, 1.77 , 1.298, 1.342, 1.575, 1.817, 1.788, 1.232, 1.387,\n",
       "       1.687, 1.479, 1.32 , 1.552, 1.716, 1.468, 1.32 , 1.628, 1.43 ,\n",
       "       1.534, 1.278, 1.924, 1.31 , 1.552, 1.296, 1.587, 1.382, 1.909,\n",
       "       1.565, 1.486, 1.575, 1.552, 1.541, 1.539, 1.518, 1.592, 1.765,\n",
       "       1.502, 1.679, 1.775, 1.49 , 1.785, 1.622, 1.667, 1.79 , 1.398,\n",
       "       1.377, 1.322, 1.46 , 1.697, 1.92 , 1.577, 1.364, 1.941, 1.406,\n",
       "       1.426, 1.824, 1.802, 1.616, 1.725, 1.432, 1.593, 1.585, 1.765,\n",
       "       1.364, 1.485, 1.529, 1.508, 1.348, 1.432])"
      ]
     },
     "execution_count": 52,
     "metadata": {},
     "output_type": "execute_result"
    }
   ],
   "source": [
    "prediction"
   ]
  },
  {
   "cell_type": "markdown",
   "id": "c401d571",
   "metadata": {},
   "source": [
    "# EVALUATION"
   ]
  },
  {
   "cell_type": "code",
   "execution_count": 53,
   "id": "4697f7e4",
   "metadata": {},
   "outputs": [],
   "source": [
    "from numpy import math\n",
    "from sklearn.metrics import r2_score, mean_absolute_error, mean_squared_error"
   ]
  },
  {
   "cell_type": "code",
   "execution_count": 54,
   "id": "ace971a0",
   "metadata": {},
   "outputs": [
    {
     "data": {
      "text/plain": [
       "2.494537832730134e-31"
      ]
     },
     "execution_count": 54,
     "metadata": {},
     "output_type": "execute_result"
    }
   ],
   "source": [
    "mean_squared_error(y_test, prediction)"
   ]
  },
  {
   "cell_type": "code",
   "execution_count": 55,
   "id": "40bc8b57",
   "metadata": {},
   "outputs": [
    {
     "data": {
      "text/plain": [
       "4.994534845939243e-16"
      ]
     },
     "execution_count": 55,
     "metadata": {},
     "output_type": "execute_result"
    }
   ],
   "source": [
    "math.sqrt(mean_squared_error(y_test, prediction))"
   ]
  },
  {
   "cell_type": "code",
   "execution_count": 56,
   "id": "d091fa7b",
   "metadata": {},
   "outputs": [
    {
     "data": {
      "text/plain": [
       "1.0"
      ]
     },
     "execution_count": 56,
     "metadata": {},
     "output_type": "execute_result"
    }
   ],
   "source": [
    "score = r2_score(y_test, prediction)\n",
    "score"
   ]
  },
  {
   "cell_type": "markdown",
   "id": "f1f11485",
   "metadata": {},
   "source": [
    "An accuracy score of 100%  and an excellent model to estimate the EC of SM. "
   ]
  },
  {
   "cell_type": "code",
   "execution_count": 57,
   "id": "ad9453b4",
   "metadata": {},
   "outputs": [
    {
     "data": {
      "text/plain": [
       "4.758098676964956e-16"
      ]
     },
     "execution_count": 57,
     "metadata": {},
     "output_type": "execute_result"
    }
   ],
   "source": [
    "mean_absolute_error(y_test, prediction)"
   ]
  },
  {
   "cell_type": "markdown",
   "id": "2540fd60",
   "metadata": {},
   "source": [
    "# RANDOM FOREST REGRESSOR"
   ]
  },
  {
   "cell_type": "code",
   "execution_count": 58,
   "id": "91ff7361",
   "metadata": {},
   "outputs": [],
   "source": [
    "from sklearn.ensemble import RandomForestRegressor"
   ]
  },
  {
   "cell_type": "code",
   "execution_count": 59,
   "id": "2d11046f",
   "metadata": {},
   "outputs": [],
   "source": [
    "model = RandomForestRegressor(n_estimators = 30, random_state = 100, max_depth = 5)"
   ]
  },
  {
   "cell_type": "code",
   "execution_count": 60,
   "id": "b073d8c5",
   "metadata": {},
   "outputs": [],
   "source": [
    "rf = model.fit(x_train, y_train)"
   ]
  },
  {
   "cell_type": "code",
   "execution_count": 61,
   "id": "f0f0a351",
   "metadata": {},
   "outputs": [
    {
     "data": {
      "text/plain": [
       "array([1.64965267, 1.47966908, 1.23914552, 1.8166824 , 1.60455203,\n",
       "       1.64751069, 1.31258167, 1.32081602, 1.32081602, 1.2981894 ,\n",
       "       1.2981894 , 1.45716791, 1.48922345, 1.46779557, 1.63409121,\n",
       "       1.23705274, 1.3656469 , 1.52831272, 1.56510253, 1.39865602,\n",
       "       1.59814298, 1.52677528, 1.7176489 , 1.85671611, 1.59814298,\n",
       "       1.67729293, 1.57785402, 1.2558195 , 1.70662698, 1.55840184,\n",
       "       1.2981894 , 1.36796932, 1.51620799, 1.40692779, 1.53010679,\n",
       "       1.23914552, 1.60301965, 1.57007017, 1.88766361, 1.49694562,\n",
       "       1.32081602, 1.23187422, 1.87769287, 1.55840184, 1.76851089,\n",
       "       1.49694562, 1.43036333, 1.43693072, 1.48922345, 1.34291889,\n",
       "       1.34291889, 1.75409258, 1.36796932, 1.75409258, 1.3993706 ,\n",
       "       1.2558195 , 1.59814298, 1.32081602, 1.451763  , 1.37846753,\n",
       "       1.47966908, 1.83042128, 1.34291889, 1.37846753, 1.79448038,\n",
       "       1.32081602, 1.71232417, 1.63323277, 1.32081602, 1.65765643,\n",
       "       1.43129309, 1.70662698, 1.91578033, 1.83134014, 1.89787118,\n",
       "       1.51678106, 1.60455203, 1.55537342, 1.451763  , 1.50799494,\n",
       "       1.60455203, 1.67085589, 1.61782056, 1.67216807, 1.62341357,\n",
       "       1.32081602, 1.60301965, 1.37160371, 1.32081602, 1.59209893,\n",
       "       1.46779557, 1.34291889, 1.54652337, 1.76851089, 1.91131745,\n",
       "       1.57716077, 1.83134014, 1.65196   , 1.39906971, 1.69956539,\n",
       "       1.76754695, 1.2981894 , 1.34291889, 1.57785402, 1.82922128,\n",
       "       1.78903658, 1.23775941, 1.38636544, 1.6840263 , 1.47816584,\n",
       "       1.32081602, 1.55254299, 1.71522256, 1.46779557, 1.32081602,\n",
       "       1.62694288, 1.43036333, 1.53636427, 1.27631463, 1.91268829,\n",
       "       1.30996916, 1.55254299, 1.2981894 , 1.58352188, 1.3808415 ,\n",
       "       1.9063706 , 1.56510253, 1.48922345, 1.57785402, 1.55254299,\n",
       "       1.54049339, 1.54049339, 1.51620799, 1.59209893, 1.76510737,\n",
       "       1.50154373, 1.67729293, 1.77039627, 1.48973513, 1.78841065,\n",
       "       1.62341357, 1.67085589, 1.78903658, 1.39906971, 1.37502531,\n",
       "       1.32081602, 1.45831256, 1.69758732, 1.91033968, 1.57907655,\n",
       "       1.36456331, 1.91578033, 1.40216175, 1.42937976, 1.83042128,\n",
       "       1.79448038, 1.61680866, 1.72627119, 1.42999666, 1.59352171,\n",
       "       1.58352188, 1.76510737, 1.36456331, 1.48620867, 1.53010679,\n",
       "       1.50972588, 1.34291889, 1.42999666])"
      ]
     },
     "execution_count": 61,
     "metadata": {},
     "output_type": "execute_result"
    }
   ],
   "source": [
    "y_pred = rf.predict(x_test)\n",
    "y_pred"
   ]
  },
  {
   "cell_type": "markdown",
   "id": "d2caf719",
   "metadata": {},
   "source": [
    "# EVALUATION"
   ]
  },
  {
   "cell_type": "code",
   "execution_count": 62,
   "id": "642e674c",
   "metadata": {},
   "outputs": [
    {
     "data": {
      "text/plain": [
       "0.9993223086025839"
      ]
     },
     "execution_count": 62,
     "metadata": {},
     "output_type": "execute_result"
    }
   ],
   "source": [
    "r2_score(y_test, y_pred)"
   ]
  },
  {
   "cell_type": "markdown",
   "id": "792e00a0",
   "metadata": {},
   "source": [
    "An accurracy score of 99.89% signifys the model perform very good to estimate the EC of SM"
   ]
  },
  {
   "cell_type": "code",
   "execution_count": 63,
   "id": "76e5c537",
   "metadata": {},
   "outputs": [
    {
     "data": {
      "text/plain": [
       "2.232877322177821e-05"
      ]
     },
     "execution_count": 63,
     "metadata": {},
     "output_type": "execute_result"
    }
   ],
   "source": [
    "mean_squared_error(y_test, y_pred)"
   ]
  },
  {
   "cell_type": "code",
   "execution_count": 64,
   "id": "63a0a4f2",
   "metadata": {},
   "outputs": [
    {
     "data": {
      "text/plain": [
       "0.004725333133418025"
      ]
     },
     "execution_count": 64,
     "metadata": {},
     "output_type": "execute_result"
    }
   ],
   "source": [
    "math.sqrt(mean_squared_error(y_test, y_pred))"
   ]
  },
  {
   "cell_type": "code",
   "execution_count": 65,
   "id": "4aafdf7c",
   "metadata": {},
   "outputs": [
    {
     "data": {
      "text/plain": [
       "0.0026589500536666516"
      ]
     },
     "execution_count": 65,
     "metadata": {},
     "output_type": "execute_result"
    }
   ],
   "source": [
    "mean_absolute_error(y_test, y_pred)"
   ]
  },
  {
   "cell_type": "markdown",
   "id": "80959848",
   "metadata": {},
   "source": [
    "# XGB REGRESSOR"
   ]
  },
  {
   "cell_type": "code",
   "execution_count": 66,
   "id": "0e340266",
   "metadata": {},
   "outputs": [],
   "source": [
    "from xgboost import XGBRegressor\n",
    "from sklearn.model_selection import cross_val_score"
   ]
  },
  {
   "cell_type": "code",
   "execution_count": 67,
   "id": "f5016f07",
   "metadata": {},
   "outputs": [],
   "source": [
    "x_train, x_test, y_train, y_test = train_test_split(x, y, test_size = 0.20, random_state = 100)"
   ]
  },
  {
   "cell_type": "code",
   "execution_count": 68,
   "id": "a7ba4e2a",
   "metadata": {},
   "outputs": [
    {
     "data": {
      "text/plain": [
       "XGBRegressor(base_score=None, booster=None, callbacks=None,\n",
       "             colsample_bylevel=None, colsample_bynode=None,\n",
       "             colsample_bytree=None, early_stopping_rounds=None,\n",
       "             enable_categorical=False, eval_metric=None, gamma=None,\n",
       "             gpu_id=None, grow_policy=None, importance_type=None,\n",
       "             interaction_constraints=None, learning_rate=None, max_bin=None,\n",
       "             max_cat_to_onehot=None, max_delta_step=None, max_depth=None,\n",
       "             max_leaves=None, min_child_weight=None, missing=nan,\n",
       "             monotone_constraints=None, n_estimators=100, n_jobs=None,\n",
       "             num_parallel_tree=None, predictor=None, random_state=None,\n",
       "             reg_alpha=None, reg_lambda=None, ...)"
      ]
     },
     "execution_count": 68,
     "metadata": {},
     "output_type": "execute_result"
    }
   ],
   "source": [
    "xgbr = XGBRegressor(verbosity = 0)\n",
    "xgbr"
   ]
  },
  {
   "cell_type": "code",
   "execution_count": 69,
   "id": "f844c39a",
   "metadata": {},
   "outputs": [
    {
     "data": {
      "text/plain": [
       "XGBRegressor(base_score=0.5, booster='gbtree', callbacks=None,\n",
       "             colsample_bylevel=1, colsample_bynode=1, colsample_bytree=1,\n",
       "             early_stopping_rounds=None, enable_categorical=False,\n",
       "             eval_metric=None, gamma=0, gpu_id=-1, grow_policy='depthwise',\n",
       "             importance_type=None, interaction_constraints='',\n",
       "             learning_rate=0.300000012, max_bin=256, max_cat_to_onehot=4,\n",
       "             max_delta_step=0, max_depth=6, max_leaves=0, min_child_weight=1,\n",
       "             missing=nan, monotone_constraints='()', n_estimators=100, n_jobs=0,\n",
       "             num_parallel_tree=1, predictor='auto', random_state=0, reg_alpha=0,\n",
       "             reg_lambda=1, ...)"
      ]
     },
     "execution_count": 69,
     "metadata": {},
     "output_type": "execute_result"
    }
   ],
   "source": [
    "xgbr.fit(x_train, y_train)"
   ]
  },
  {
   "cell_type": "code",
   "execution_count": 70,
   "id": "fa28d3f3",
   "metadata": {},
   "outputs": [],
   "source": [
    "score = xgbr.score(x_train, y_train)"
   ]
  },
  {
   "cell_type": "code",
   "execution_count": 71,
   "id": "bc6058b2",
   "metadata": {},
   "outputs": [
    {
     "data": {
      "text/plain": [
       "0.9999548968720183"
      ]
     },
     "execution_count": 71,
     "metadata": {},
     "output_type": "execute_result"
    }
   ],
   "source": [
    "score"
   ]
  },
  {
   "cell_type": "code",
   "execution_count": 72,
   "id": "2bc95f14",
   "metadata": {},
   "outputs": [
    {
     "data": {
      "text/plain": [
       "array([0.99969208, 0.99966205, 0.99977187, 0.99959166, 0.99962148,\n",
       "       0.99972853, 0.99980425, 0.99975891, 0.9997318 , 0.99975727])"
      ]
     },
     "execution_count": 72,
     "metadata": {},
     "output_type": "execute_result"
    }
   ],
   "source": [
    "cv_score = cross_val_score(xgbr, x_train, y_train, cv = 10)\n",
    "cv_score"
   ]
  },
  {
   "cell_type": "code",
   "execution_count": 73,
   "id": "51c32350",
   "metadata": {},
   "outputs": [
    {
     "data": {
      "text/plain": [
       "0.999711990799125"
      ]
     },
     "execution_count": 73,
     "metadata": {},
     "output_type": "execute_result"
    }
   ],
   "source": [
    "cv_score.mean()"
   ]
  },
  {
   "cell_type": "code",
   "execution_count": 74,
   "id": "e4a1363e",
   "metadata": {},
   "outputs": [],
   "source": [
    "y_predict = xgbr.predict(x_test)"
   ]
  },
  {
   "cell_type": "code",
   "execution_count": 75,
   "id": "6d36ccb3",
   "metadata": {},
   "outputs": [
    {
     "data": {
      "text/plain": [
       "array([1.6533113, 1.4783354, 1.2370112, 1.8234575, 1.6080745, 1.6460133,\n",
       "       1.3156948, 1.3173147, 1.319616 , 1.2985541, 1.2954214, 1.4572343,\n",
       "       1.4879242, 1.4660558, 1.6370368, 1.2170485, 1.3638386, 1.5297849,\n",
       "       1.5621567, 1.3929403, 1.5979785, 1.5196906, 1.7176064, 1.8597894,\n",
       "       1.5975637, 1.6767786, 1.575055 , 1.2563175, 1.7080823, 1.5569048,\n",
       "       1.2949023, 1.3672208, 1.5181122, 1.4086356, 1.5301875, 1.2370112,\n",
       "       1.6033423, 1.5721034, 1.8786106, 1.4968332, 1.3200352, 1.2171284,\n",
       "       1.8754025, 1.5567173, 1.7751305, 1.4970319, 1.4317648, 1.4371277,\n",
       "       1.4870987, 1.3398358, 1.3432355, 1.7542949, 1.36852  , 1.7550722,\n",
       "       1.3942965, 1.2546707, 1.5979785, 1.3200352, 1.4531814, 1.3811178,\n",
       "       1.4780422, 1.826135 , 1.3403687, 1.3817499, 1.8009487, 1.3200352,\n",
       "       1.7091628, 1.6286683, 1.3200835, 1.6584321, 1.4330634, 1.7078038,\n",
       "       1.9392769, 1.8298498, 1.9032762, 1.5174253, 1.6094645, 1.5550587,\n",
       "       1.4531226, 1.5077217, 1.6092752, 1.6653918, 1.6106998, 1.6692499,\n",
       "       1.6222955, 1.3150947, 1.6066955, 1.3753976, 1.3202375, 1.5900899,\n",
       "       1.4640477, 1.3417368, 1.5465871, 1.7771434, 1.9143492, 1.5757126,\n",
       "       1.8258368, 1.6515034, 1.400017 , 1.699201 , 1.7742386, 1.2976582,\n",
       "       1.3417368, 1.5771426, 1.8230789, 1.7880276, 1.2370112, 1.3869401,\n",
       "       1.6882137, 1.4788198, 1.3202375, 1.5520214], dtype=float32)"
      ]
     },
     "execution_count": 75,
     "metadata": {},
     "output_type": "execute_result"
    }
   ],
   "source": [
    "y_predict"
   ]
  },
  {
   "cell_type": "markdown",
   "id": "2d59adcd",
   "metadata": {},
   "source": [
    "# EVALUATION"
   ]
  },
  {
   "cell_type": "code",
   "execution_count": 76,
   "id": "acc3b9e8",
   "metadata": {},
   "outputs": [
    {
     "data": {
      "text/plain": [
       "8.79210361731729e-06"
      ]
     },
     "execution_count": 76,
     "metadata": {},
     "output_type": "execute_result"
    }
   ],
   "source": [
    "mean_squared_error(y_test, y_predict)"
   ]
  },
  {
   "cell_type": "code",
   "execution_count": 77,
   "id": "141226ab",
   "metadata": {},
   "outputs": [
    {
     "data": {
      "text/plain": [
       "0.00296514816110718"
      ]
     },
     "execution_count": 77,
     "metadata": {},
     "output_type": "execute_result"
    }
   ],
   "source": [
    "math.sqrt(mean_squared_error(y_test, y_predict))"
   ]
  },
  {
   "cell_type": "code",
   "execution_count": 78,
   "id": "3b2ed6a8",
   "metadata": {},
   "outputs": [
    {
     "data": {
      "text/plain": [
       "0.0020149629626955395"
      ]
     },
     "execution_count": 78,
     "metadata": {},
     "output_type": "execute_result"
    }
   ],
   "source": [
    "mean_absolute_error(y_test, y_predict)"
   ]
  },
  {
   "cell_type": "code",
   "execution_count": 79,
   "id": "72639369",
   "metadata": {},
   "outputs": [
    {
     "data": {
      "text/plain": [
       "0.9997417586353494"
      ]
     },
     "execution_count": 79,
     "metadata": {},
     "output_type": "execute_result"
    }
   ],
   "source": [
    "r2_score(y_test, y_predict)"
   ]
  },
  {
   "cell_type": "markdown",
   "id": "427cf95b",
   "metadata": {},
   "source": [
    "An accurracy score of 99.97% tells us that the model perform excellently well and its a good model to estimate the EC of SM"
   ]
  },
  {
   "cell_type": "markdown",
   "id": "d1be815a",
   "metadata": {},
   "source": [
    "# COMPARISON OF THE TEST AND PREDICTED EC"
   ]
  },
  {
   "cell_type": "code",
   "execution_count": 80,
   "id": "1c8f87e1",
   "metadata": {},
   "outputs": [
    {
     "data": {
      "image/png": "[encoded data removed]",
      "text/plain": [
       "<Figure size 432x288 with 1 Axes>"
      ]
     },
     "metadata": {
      "needs_background": "light"
     },
     "output_type": "display_data"
    }
   ],
   "source": [
    "x_axis = range(len(y_test))\n",
    "plt.plot(x_axis, y_test, label = 'original')\n",
    "plt.plot(x_axis, y_predict, label = 'predicted')\n",
    "plt.title( 'Excitation current test and predicted data')\n",
    "plt.legend(loc = 'center left', bbox_to_anchor = (1, 0.5) )\n",
    "plt.show()"
   ]
  },
  {
   "cell_type": "markdown",
   "id": "37401817",
   "metadata": {},
   "source": [
    "# RECOMMENDATION"
   ]
  },
  {
   "cell_type": "markdown",
   "id": "e52d4a4e",
   "metadata": {},
   "source": [
    "More datas should be gather at real time experiment to further and better understand the behaviour of EC of SM"
   ]
  },
  {
   "cell_type": "markdown",
   "id": "1af9f8cb",
   "metadata": {},
   "source": [
    "# RELEVANT PAPERS"
   ]
  },
  {
   "cell_type": "markdown",
   "id": "a238f116",
   "metadata": {},
   "source": [
    "1) Kahraman, H. T. (2014). Metaheuristic linear modeling technique for estimating the excitation current of a synchronous motor.Â Turkish Journal of Electrical Engineering & Computer Sciences,Â 22(6), 1637-1652.\n",
    "\n",
    "2) Kahraman, H. T., Bayindir, R, & Sagiroglu, S. (2012). A new approach to predict the excitation current and parameter weightings of synchronous machines based on genetic algorithm-based k-NN estimator.Â Energy Conversion and Management,Â 64, 129-138.\n",
    "\n"
   ]
  },
  {
   "cell_type": "code",
   "execution_count": null,
   "id": "401f1266",
   "metadata": {},
   "outputs": [],
   "source": []
  }
 ],
 "metadata": {
  "kernelspec": {
   "display_name": "Python 3",
   "language": "python",
   "name": "python3"
  },
  "language_info": {
   "codemirror_mode": {
    "name": "ipython",
    "version": 3
   },
   "file_extension": ".py",
   "mimetype": "text/x-python",
   "name": "python",
   "nbconvert_exporter": "python",
   "pygments_lexer": "ipython3",
   "version": "3.8.8"
  }
 },
 "nbformat": 4,
 "nbformat_minor": 5
}
